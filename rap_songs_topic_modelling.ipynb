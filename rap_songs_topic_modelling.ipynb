{
 "cells": [
  {
   "cell_type": "markdown",
   "metadata": {},
   "source": [
    "# Unsupervised Topic Modelling on Rap Song Lyrics\n",
    "<i>University of London, DSM020 (October - March 2022) - Assessment II"
   ]
  },
  {
   "cell_type": "markdown",
   "metadata": {},
   "source": [
    "In my previous coursework submitted as part of the DSM020 assessment, I performed an exploratory data analysis of song lyrics from four different genres. From this analysis, I had discovered that while songs falling under the Pop, Rock, and R&B genres were mainly themed on the topic of love, songs falling under the Rap and Hip Hop genres covered a much wider array of topics. Rap songs were also found to differ from other genres in other aspects, such as sentimentality, length, use of distinct words, and use of slang, dialect, and expletives.\n",
    "\n",
    "In this project, I will be taking a much more detailed look at the lyrics of Rap (inlcuding Hip Hop) songs. The main objective is to identify the hidden topics within these lyrics, thereby enabling an improved understanding and appreciation of the variablility of this genre. To do this, I will make use of a large online throve of Rap song lyrics, providing data on around thirteen thousand songs in the English language. After a rigorous cleaning of the dataset, a Latent Dirichlet Allocation (LDA) will be used to generate unsupervised topic labels for the lyrics.\n",
    "\n",
    "The project is structured as follows. The first section outlines the procedure used to scrape the lyrics data from an online source. In the second section, I clean and process the raw data in preparation for its use by the topic modelling algorithm. The third section describes and implements the algorithm, with the fourth section providing analysis of the dataset and the main results. In the final section I outline my main conclusions and other considerations.\n",
    "\n",
    "<b><i>Note:</b></i> The final dataset was quite large (around 40MB), so along with this notebook I have only provided a small sample of the dataset. Naturally, replicating the below results would require the full dataset - this is available upon request. "
   ]
  },
  {
   "cell_type": "code",
   "execution_count": 1,
   "metadata": {},
   "outputs": [
    {
     "name": "stderr",
     "output_type": "stream",
     "text": [
      "[nltk_data] Downloading package punkt to\n",
      "[nltk_data]     C:\\Users\\darma\\AppData\\Roaming\\nltk_data...\n",
      "[nltk_data]   Package punkt is already up-to-date!\n",
      "[nltk_data] Downloading package stopwords to\n",
      "[nltk_data]     C:\\Users\\darma\\AppData\\Roaming\\nltk_data...\n",
      "[nltk_data]   Package stopwords is already up-to-date!\n",
      "[nltk_data] Downloading package wordnet to\n",
      "[nltk_data]     C:\\Users\\darma\\AppData\\Roaming\\nltk_data...\n",
      "[nltk_data]   Package wordnet is already up-to-date!\n",
      "[nltk_data] Downloading package averaged_perceptron_tagger to\n",
      "[nltk_data]     C:\\Users\\darma\\AppData\\Roaming\\nltk_data...\n",
      "[nltk_data]   Package averaged_perceptron_tagger is already up-to-\n",
      "[nltk_data]       date!\n",
      "[nltk_data] Downloading package words to\n",
      "[nltk_data]     C:\\Users\\darma\\AppData\\Roaming\\nltk_data...\n",
      "[nltk_data]   Package words is already up-to-date!\n",
      "C:\\ProgramData\\Anaconda3\\lib\\site-packages\\sklearn\\decomposition\\_lda.py:28: DeprecationWarning: `np.float` is a deprecated alias for the builtin `float`. To silence this warning, use `float` by itself. Doing this will not modify any behavior and is safe. If you specifically wanted the numpy scalar type, use `np.float64` here.\n",
      "Deprecated in NumPy 1.20; for more details and guidance: https://numpy.org/devdocs/release/1.20.0-notes.html#deprecations\n",
      "  EPS = np.finfo(np.float).eps\n"
     ]
    }
   ],
   "source": [
    "#Importing required libraries\n",
    "\n",
    "#general\n",
    "import numpy as np\n",
    "import csv\n",
    "import ast\n",
    "from IPython.display import clear_output\n",
    "import warnings\n",
    "import unittest\n",
    "\n",
    "#webscraping\n",
    "import requests\n",
    "from bs4 import BeautifulSoup\n",
    "\n",
    "#text processing & nlp\n",
    "import re\n",
    "import string\n",
    "import spacy\n",
    "from spacy.language import Language\n",
    "from spacy_langdetect import LanguageDetector\n",
    "from vaderSentiment.vaderSentiment import SentimentIntensityAnalyzer\n",
    "import nltk\n",
    "from nltk.corpus import wordnet \n",
    "from nltk.tokenize import word_tokenize\n",
    "from nltk.stem import WordNetLemmatizer\n",
    "from nltk.corpus import stopwords\n",
    "from nltk import FreqDist, bigrams\n",
    "nltk.download('punkt')\n",
    "nltk.download('stopwords')\n",
    "nltk.download('wordnet')\n",
    "nltk.download('averaged_perceptron_tagger')\n",
    "nltk.download('words')\n",
    " \n",
    "#visualistion\n",
    "import pandas as pd\n",
    "from matplotlib import pyplot as plt\n",
    "import seaborn as sns\n",
    "import pyLDAvis\n",
    "import pyLDAvis.sklearn\n",
    "from wordcloud import WordCloud\n",
    "\n",
    "#modelling\n",
    "from sklearn.feature_extraction.text import TfidfVectorizer, CountVectorizer\n",
    "from sklearn.decomposition import LatentDirichletAllocation\n",
    "from sklearn.model_selection import GridSearchCV"
   ]
  },
  {
   "cell_type": "code",
   "execution_count": 2,
   "metadata": {},
   "outputs": [],
   "source": [
    "#visualisation settings\n",
    "%matplotlib inline\n",
    "sns.set_style(\"darkgrid\")\n",
    "pyLDAvis.enable_notebook()\n",
    "\n",
    "#the below to prevent warnings thrown when running pyLDAvis\n",
    "warnings.filterwarnings(\"ignore\", category=DeprecationWarning) \n",
    "warnings.filterwarnings('ignore', category=FutureWarning)"
   ]
  },
  {
   "cell_type": "markdown",
   "metadata": {},
   "source": [
    "## I. Data Collection"
   ]
  },
  {
   "cell_type": "markdown",
   "metadata": {},
   "source": [
    "Song lyrics data was collected from the Lyrics.com website (https://www.lyrics.com/). Lyrics.com is part of the STANDS4 Network, a digital media provider of free online resources. The site provides a  comprehensive online lyrics database across several genres, partly submitted by users. The <i>robots.txt</i> provided along with the site does not disallow web crawlers.\n",
    "\n",
    "This data source is different from the one used in my previous project - this change was motivated by the much larger database on Lyrics.com and its regular updates, meaning that even very recent songs will be featured.\n",
    "\n",
    "The site allows the filtering of songs by genre. As at the date of scraping (31-Jan-2022) there were over 14,000 songs labelled under the 'Hip Hop' genre (on closer inspection, it appears that Rap and Hip Hop songs were all grouped together under this label). The URL for the genre index is https://www.lyrics.com/genre/Hip%20Hop. This genre index, which is paginated into 24 songs per page, lists the songs alphabetically, with each song containing a link to the individual song page. In turn, each individual song page contains important information about the song, including the title, artist, lyrics, and in most cases the year and duration of the song.\n",
    "\n",
    "In light of this layout, the data scraping will be performed in two steps:\n",
    "<ul>\n",
    "   <li>Go through each page in the genre index (596 pages at the time of scraping) and collect the URL of each individual song.</li>\n",
    "   <li>Loop through the individual song URLs and collect the required information for each song.</li>\n",
    "</ul>\n",
    "Scraping will be carried out using Python's requests library to request webpages, and the BeautifulSoup library to extract the required elements."
   ]
  },
  {
   "cell_type": "code",
   "execution_count": 3,
   "metadata": {},
   "outputs": [],
   "source": [
    "#setting requests header\n",
    "request_header = ({'User-Agent' : 'Mozilla/5.0 (Windows NT 10.0; Win64; x64) AppleWebKit/537.36 (KHTML, like Gecko) Chrome/97.0.4692.99 Safari/537.36',\n",
    "               'Accept-Language': 'en-GB,en;q=0.9,en-US;q=0.8,mt;q=0.7'     \n",
    "                })"
   ]
  },
  {
   "cell_type": "markdown",
   "metadata": {},
   "source": [
    "### I.I Scraping Song URLs"
   ]
  },
  {
   "cell_type": "markdown",
   "metadata": {},
   "source": [
    "The below are helper functions for scraping the song URLs from the genre index.\n",
    "\n",
    "The get_number_pages function grabs the number of pages to be scraped - this is equal to the number of the last page in the page navigator at the bottom of the genre index URL (tag 'a', class 'rc5').\n",
    "\n",
    "The song_url_scraper function loops through each of the pages, starting from the default current_page = 1 until current_page is equal to the output of the get_number_pages function. The title of each song, linked to the individual song page, is housed in a 'p' tag with class 'lyric-meta-title'. The function grabs each of these tags (24 per page) and then from each one grabs the href attribute of the underlying 'a' tag. These URLs are appended to the urls_list variable, which is the output of the function. For each page scraped the function prints a success message, thereby providing the user with runtime feedback.\n",
    "\n",
    "The song_url_scraper function also includes an error capturing ability. If the page does not load properly (timeout after five seconds) or any other exception is encountered, the function is programmed to retry running on that same page, for a maximum of five times. These retries are tracked by the retry_counter variable. Should a page be retried for five times with no success, the error_message function is called. This throws an error message, asking the user for an input. Should the user decide to continue ('y'), the song_url_scraper function will skip the error page and continue on to the next page. This is useful if the user believes that the error is related to just one particular page. On the other hand, if the user decides to stop ('n'), maybe because there is a larger issue at stake (e.g. network issues) or a number of pages in succession have thrown errors, the song_url_scraper function will return the data scraped so far and break. The user can then resolve the issue and save the outputted data, and later re-start the function from the last page scaped by altering the initial current_page parameter."
   ]
  },
  {
   "cell_type": "code",
   "execution_count": 4,
   "metadata": {},
   "outputs": [],
   "source": [
    "def get_number_pages(genre_url):\n",
    "    '''\n",
    "    DESCRIPTION:\n",
    "    Grabs number of pages in a genre index, which is the last page in the index\n",
    "    PARAMETERS:\n",
    "    genre_url is the URL of the first page of the genre index\n",
    "    OUTPUT: \n",
    "    Returns number of pages as integer\n",
    "    '''\n",
    "    home_html = requests.get(genre_url, headers = request_header)\n",
    "    home_soup = BeautifulSoup(home_html.content,\"html.parser\") \n",
    "    pages_inactive = home_soup.find_all('a',{'class':'rc5'})\n",
    "    number_of_pages = pages_inactive[-1].text\n",
    "    return int(number_of_pages)\n",
    "\n",
    "def song_url_scraper(genre_url, number_of_pages, current_page=1, retry_counter=0):\n",
    "    '''\n",
    "    DESCRIPTION:\n",
    "    Grab song page URLs from genre index \n",
    "    PARAMETERS:\n",
    "    genre_url is base url of genre index\n",
    "    number_of_pages is number of pages to scrape\n",
    "    current_page is the start page - default value of 1; can be changed if one wishes to start scraping from different page\n",
    "    retry_counter is retry counter for when function throws an error - default value of 0\n",
    "    OUTPUT:\n",
    "    List of scraped URLs\n",
    "    '''   \n",
    "    urls_list = []\n",
    "    \n",
    "    while current_page <= number_of_pages: \n",
    "        \n",
    "        try:\n",
    "            request_url = genre_url + '/' + str(current_page)\n",
    "\n",
    "            page_html = requests.get(request_url, headers = request_header, timeout=5)\n",
    "            soup = BeautifulSoup(page_html.content,\"html.parser\")\n",
    "\n",
    "            urls_html = soup.find_all('p',{'class':'lyric-meta-title'}) \n",
    "\n",
    "            for elem in urls_html:\n",
    "                song_url = elem.find('a')['href']\n",
    "                urls_list.append(song_url)\n",
    "\n",
    "        #if error thrown\n",
    "        except Exception as e:\n",
    "            print(f'Error on page {current_page} - {e}')\n",
    "            retry_counter += 1\n",
    "            \n",
    "            if retry_counter <= 5:\n",
    "                clear_output()\n",
    "                print(f'Retry #{retry_counter} for page {current_page}')\n",
    "                current_page = current_page\n",
    "                continue \n",
    "                \n",
    "            else: \n",
    "                error_message(current_page, number_of_pages)\n",
    "        \n",
    "        #if scraping succesful\n",
    "        else:\n",
    "            clear_output()\n",
    "            print(f'Page {current_page} scraped')\n",
    "\n",
    "            if current_page == number_of_pages:\n",
    "                print('FINISHED!')\n",
    "                break\n",
    "            else:\n",
    "                retry_counter = 0 #reset counter\n",
    "                current_page += 1 #continue looping\n",
    "        \n",
    "    return urls_list\n",
    "\n",
    "def error_message(current_page, number_of_pages):\n",
    "    '''\n",
    "    DESCRIPTION:\n",
    "    Ask user what to do in case of error\n",
    "    PARAMETERS:\n",
    "    current_page is page currently being scraped\n",
    "    number_of_pages is number of pages to be scraped \n",
    "    OUTPUT:\n",
    "    Error message asking for user input  \n",
    "    '''\n",
    "    ans = input(f'Maximum number of retries exceeded on page {current_page}. Do you wish to continue (y/n)?')\n",
    "    if ans.lower() == 'y': \n",
    "        current_page += 1 #scraper function continues to next page\n",
    "        retry_counter = 0\n",
    "    elif ans.lower() == 'n': \n",
    "        print(f'Scraping stopped on page {current_page}')\n",
    "        current_page = number_of_pages + 1 #this will break the while loop but still return function output\n",
    "    else:\n",
    "        print('Please insert an appropriate input! (y or n)!') \n",
    "        error_message()"
   ]
  },
  {
   "cell_type": "markdown",
   "metadata": {},
   "source": [
    "Below I perform the actual scraping.\n",
    "\n",
    "<i>*Note: The below code can take a while to run, so is provided in markdown form. For ease of accessibility, the scraped song URLs have been saved to a .txt file (urls.txt) and are provided along with this notebook.</i>"
   ]
  },
  {
   "cell_type": "markdown",
   "metadata": {},
   "source": [
    "```\n",
    "#scraping urls\n",
    "genre_index_url = f'https://www.lyrics.com/genre/Hip%20Hop' #base genre index url\n",
    "number_pages = get_number_pages(genre_index_url) #number of pages to be scraped\n",
    "song_urls = song_url_scraper(genre_index_url, number_pages) #running scraper\n",
    "\n",
    "#saving links to file\n",
    "with open('urls.txt', 'a') as file:\n",
    "    for url in song_urls:\n",
    "        file.write(\"https://www.lyrics.com\" + \"%s\\n\" % url)\n",
    "```"
   ]
  },
  {
   "cell_type": "markdown",
   "metadata": {},
   "source": [
    "### I.II Scraping Song Data"
   ]
  },
  {
   "cell_type": "markdown",
   "metadata": {},
   "source": [
    "Now I go through each song URL and scrape the song data using the song_info_scraper helper function below. Some unittests are added to the code to ensure correct performance.\n",
    "\n",
    "The song title is the 'h1' tag, id 'lyric-title-text', while the artist is in the 'h3' tag, class 'lyric-artist'. The lyrics are in the 'pre' tag, id 'lyric-body-text'.\n",
    "\n",
    "Grabbing the info on the year and the song duration was a bit more complex as these are not available for each song. Thus, the function needed to account for instances where one or both of these elements did not exist. \n",
    "\n",
    "The elements, when present, are both found in the 'div' tag with class 'lyric-details'. When the year info exists, this will be preceded by a 'dt' tag with the text 'Year:'. The year info itself will be contained in the next tag, which is a 'dd' tag wth class 'dd-margin'. Hence, the function first checks if the 'dt' tag containing 'Year:' exists; if it does, it calls the next 'dd' tag and grabs the year info; if it doesn't, the function will return 'N/A'.\n",
    "\n",
    "Similarly the duration info, when present, is always preceded by a clock image (tag 'i', class 'far fa-clock'). If this image exists on a page, the function will call the 'dd' tag (class 'dd-margin') that follows this clock image; if the image is not present, the song has no duration info and hence an 'N/A' is returned."
   ]
  },
  {
   "cell_type": "code",
   "execution_count": 5,
   "metadata": {
    "scrolled": true
   },
   "outputs": [
    {
     "name": "stderr",
     "output_type": "stream",
     "text": [
      "test_lyrics (__main__.test_scraping)\n",
      "Check lyrics exist. ... ok\n",
      "test_lyrics_isstring (__main__.test_scraping)\n",
      "Check lyrics are strings and not empty. ... ok\n",
      "test_response_ok (__main__.test_scraping)\n",
      "Does website send response? ... ok\n",
      "test_title (__main__.test_scraping)\n",
      "Check title exists. ... ok\n",
      "\n",
      "----------------------------------------------------------------------\n",
      "Ran 4 tests in 1.643s\n",
      "\n",
      "OK\n"
     ]
    },
    {
     "data": {
      "text/plain": [
       "<unittest.main.TestProgram at 0x21d59c83220>"
      ]
     },
     "execution_count": 5,
     "metadata": {},
     "output_type": "execute_result"
    }
   ],
   "source": [
    "def song_info_scraper(song_url):\n",
    "    '''\n",
    "    DESCRIPTION:\n",
    "    Scrapes individual song info and lyrics\n",
    "    PARAMETERS:\n",
    "    song_url is the song URL from Lyrics.com\n",
    "    OUTPUT: \n",
    "    Returns a tuple containing info on (song title, artist, year, duration, lyrics)\n",
    "    '''\n",
    "    song_html = requests.get(song_url, headers = request_header, timeout=5)\n",
    "    song_soup = BeautifulSoup(song_html.content,\"html.parser\")\n",
    "\n",
    "    #title\n",
    "    song_title = song_soup.find('h1',{'id':'lyric-title-text'}).text\n",
    "\n",
    "    #artist\n",
    "    artist = song_soup.find('h3',{'class':'lyric-artist'}).text\n",
    "\n",
    "    info_div = song_soup.find('div',{'class':'lyric-details'})\n",
    "    #year\n",
    "    pattern = 'Year:'\n",
    "    year_info = info_div.find('dt', text = pattern) \n",
    "    if year_info is not None: #checking if year info exists\n",
    "        year = year_info.find_next('dd',{'class':'dd-margin'}).text\n",
    "        #info is contained in 'dd' tag following year_info element\n",
    "    else: \n",
    "        year = 'N/A'\n",
    "\n",
    "    #duration\n",
    "    clock_image = info_div.find('i',{'class':'far fa-clock'})\n",
    "    if clock_image is not None: #checking if duration info exists\n",
    "        length = clock_image.find_next('dd',{'class':'dd-margin'}).text\n",
    "        #info is contained in 'dd' tag following clock_image element\n",
    "    else: \n",
    "        length = 'N/A'\n",
    "\n",
    "    #lyrics\n",
    "    song_lyrics = song_soup.find('pre',{'id':'lyric-body-text'}).text\n",
    "    \n",
    "    #make sure that all elements exist (or at least 'N/A', otherwise throw an error)\n",
    "    for i in [song_title, artist, year, length, song_lyrics]:\n",
    "        assert i is not None and len(str(i)) != 0, 'Assertion Error, one element is missing!' \n",
    "\n",
    "    return song_title, artist, year, length, song_lyrics\n",
    "\n",
    "#unittesting\n",
    "class test_scraping(unittest.TestCase):\n",
    "    '''\n",
    "    Unit testing for the song_info_scraper function.\n",
    "    '''\n",
    "\n",
    "    def setUpClass():\n",
    "        '''\n",
    "        This function will run before every other test.\n",
    "        '''\n",
    "        global test_soup #allows test_soup to be used in below tests\n",
    "        test_url = 'https://www.lyrics.com/lyric/5564474/Nelly/%231' #can be changed to any URL\n",
    "        test_html = requests.get(test_url)\n",
    "        test_soup = BeautifulSoup(test_html.content,\"html.parser\")   \n",
    "             \n",
    "    def test_response_ok(self):\n",
    "        '''\n",
    "        Does website send response?\n",
    "        '''\n",
    "        self.assertIsNotNone(test_soup)\n",
    "\n",
    "    def test_title(self):\n",
    "        '''\n",
    "        Check title exists.\n",
    "        '''\n",
    "        test_title = test_soup.find('h1',{'id':'lyric-title-text'})\n",
    "        self.assertIsNotNone(test_title)\n",
    "        \n",
    "    def test_lyrics(self):\n",
    "        '''\n",
    "        Check lyrics exist.\n",
    "        '''\n",
    "        test_lyrics = test_soup.find('pre',{'id':'lyric-body-text'})\n",
    "        self.assertIsNotNone(test_lyrics)\n",
    "\n",
    "    def test_lyrics_isstring(self):\n",
    "        '''\n",
    "        Check lyrics are strings and not empty.\n",
    "        '''\n",
    "        test_lyrics = test_soup.find('pre',{'id':'lyric-body-text'}).text\n",
    "        self.assertTrue(type(test_lyrics)==str and len(test_lyrics)!=0)\n",
    "\n",
    "unittest.main(argv=['ignored', '-v'], exit=False)\n"
   ]
  },
  {
   "cell_type": "markdown",
   "metadata": {},
   "source": [
    "Now I read the previously scraped URLs from file and loop through them using the song_info_scraper function. The output for each song is stored in the song_data variable. Error capturing is used to capture issues such as page timeouts or NoSuchElement exceptions; in such cases, the code will retry the page up to five times before breaking. When this occurs, the user can restart the scraper by the setting page_counter variable to the last page scraped - this will append the data to the song_data variable on top of previously scraped data (so no previosuly scraped data is lost).\n",
    "\n",
    "<i>*Note: The below code can take a while to run, so is provided in markdown form. For ease of accessibility, the scraped song data has been saved to a .csv file (scraped_data.csv) and is provided along with this notebook.</i>"
   ]
  },
  {
   "cell_type": "markdown",
   "metadata": {},
   "source": [
    "```\n",
    "#reading urls \n",
    "with open('urls.txt') as file:\n",
    "    lines = file.readlines()\n",
    "    urls_to_scrape = [line.rstrip() for line in lines] #converting to list\n",
    "\n",
    "#setting initial variables\n",
    "song_data = []\n",
    "page_counter = 0\n",
    "page_retries = 0\n",
    "\n",
    "#scraping info\n",
    "while page_counter < len(urls_to_scrape):\n",
    "    \n",
    "    try:\n",
    "        song_url = urls_to_scrape[page_counter]\n",
    "        song_title, artist, year, length, song_lyrics = song_info_scraper(song_url)\n",
    "        song_data.append((song_title, artist, year, length, song_lyrics, 'HipHop', song_url))\n",
    "    \n",
    "    #if error encountered\n",
    "    except Exception as e:\n",
    "        print(f'Error on song {page_counter} - {e}')\n",
    "        page_retries += 1\n",
    "        \n",
    "        if page_retries <= 5:\n",
    "            clear_output()\n",
    "            print(f'Retry #{page_retries} for page {page_counter}')\n",
    "            page_counter = page_counter\n",
    "            continue \n",
    "        else: \n",
    "            print(f'Maxmimum number of retries for page {page_counter} exceeded! Closing...')\n",
    "            break\n",
    "    \n",
    "    #if no error encountered\n",
    "    else:\n",
    "        clear_output()\n",
    "        print(f'Page {page_counter} scraped')\n",
    "\n",
    "        if page_counter == (len(urls_to_scrape) - 1):\n",
    "            print('FINISHED!')\n",
    "            break\n",
    "        else:\n",
    "            page_retries = 0 \n",
    "            page_counter += 1 \n",
    "\n",
    "#saving to file\n",
    "with open('scraped_data.csv', 'a', encoding='UTF8', newline='\\n') as file:\n",
    "    output = csv.writer(file)\n",
    "    output.writerow(['Title', 'Artist', 'Year', 'Length', 'Lyrics', 'Genre', 'URL'])\n",
    "    for row in song_data:\n",
    "        output.writerow(row)\n",
    "```"
   ]
  },
  {
   "cell_type": "markdown",
   "metadata": {},
   "source": [
    "## II. Data Processing"
   ]
  },
  {
   "cell_type": "markdown",
   "metadata": {},
   "source": [
    "The aim of this section is to clean and prepare the raw data for use in the analysis and modelling sections below. Given the nature of Rap music, which contains a lot of dialect and slang, this section was the hardest and most time-consuming to implement, but also the most necessary."
   ]
  },
  {
   "cell_type": "markdown",
   "metadata": {},
   "source": [
    "### II.I Importing & Overview"
   ]
  },
  {
   "cell_type": "markdown",
   "metadata": {},
   "source": [
    "I first import the scraped data, which is stored in a .csv file. The below code also provides a general overview of the raw dataset."
   ]
  },
  {
   "cell_type": "code",
   "execution_count": 6,
   "metadata": {},
   "outputs": [
    {
     "name": "stdout",
     "output_type": "stream",
     "text": [
      "The dataset contains 14295 songs.\n",
      "\n"
     ]
    },
    {
     "data": {
      "text/html": [
       "<div>\n",
       "<style scoped>\n",
       "    .dataframe tbody tr th:only-of-type {\n",
       "        vertical-align: middle;\n",
       "    }\n",
       "\n",
       "    .dataframe tbody tr th {\n",
       "        vertical-align: top;\n",
       "    }\n",
       "\n",
       "    .dataframe thead th {\n",
       "        text-align: right;\n",
       "    }\n",
       "</style>\n",
       "<table border=\"1\" class=\"dataframe\">\n",
       "  <thead>\n",
       "    <tr style=\"text-align: right;\">\n",
       "      <th></th>\n",
       "      <th>Title</th>\n",
       "      <th>Artist</th>\n",
       "      <th>Year</th>\n",
       "      <th>Length</th>\n",
       "      <th>Lyrics</th>\n",
       "      <th>Genre</th>\n",
       "      <th>URL</th>\n",
       "    </tr>\n",
       "  </thead>\n",
       "  <tbody>\n",
       "    <tr>\n",
       "      <th>0</th>\n",
       "      <td>#1</td>\n",
       "      <td>Nelly</td>\n",
       "      <td>2002</td>\n",
       "      <td>03:18</td>\n",
       "      <td>Uh uh uh\\nI just gotta bring it to they attent...</td>\n",
       "      <td>HipHop</td>\n",
       "      <td>https://www.lyrics.com//lyric/5564474/Nelly/%231</td>\n",
       "    </tr>\n",
       "    <tr>\n",
       "      <th>1</th>\n",
       "      <td>#1</td>\n",
       "      <td>Big Tymers</td>\n",
       "      <td>2002</td>\n",
       "      <td>04:43</td>\n",
       "      <td>\\n\\nChorus (2x):(Mannie Fresh)\\nAll the nigga...</td>\n",
       "      <td>HipHop</td>\n",
       "      <td>https://www.lyrics.com//lyric/26433573/Big+Tym...</td>\n",
       "    </tr>\n",
       "    <tr>\n",
       "      <th>2</th>\n",
       "      <td>#1</td>\n",
       "      <td>Clipse, Nelly, Postaboy</td>\n",
       "      <td>2003</td>\n",
       "      <td>05:07</td>\n",
       "      <td>Uh uh uh\\r\\nI just gotta bring it to they atte...</td>\n",
       "      <td>HipHop</td>\n",
       "      <td>https://www.lyrics.com//lyric/27233608/Various...</td>\n",
       "    </tr>\n",
       "    <tr>\n",
       "      <th>3</th>\n",
       "      <td>#1 Player</td>\n",
       "      <td>Red Hot Lover Tone</td>\n",
       "      <td>1995</td>\n",
       "      <td>04:06</td>\n",
       "      <td>\\r\\n[Rich Nice]\\r\\nWhat I want you to underst...</td>\n",
       "      <td>HipHop</td>\n",
       "      <td>https://www.lyrics.com//lyric/2608484/Red+Hot+...</td>\n",
       "    </tr>\n",
       "    <tr>\n",
       "      <th>4</th>\n",
       "      <td>#1 Stunna</td>\n",
       "      <td>Big Tymers, Lil Wayne, Juvenile</td>\n",
       "      <td>2000</td>\n",
       "      <td>04:41</td>\n",
       "      <td>Nigga can't out-stunt me when it come to these...</td>\n",
       "      <td>HipHop</td>\n",
       "      <td>https://www.lyrics.com//lyric/3600097/Various+...</td>\n",
       "    </tr>\n",
       "  </tbody>\n",
       "</table>\n",
       "</div>"
      ],
      "text/plain": [
       "       Title                           Artist  Year Length  \\\n",
       "0         #1                            Nelly  2002  03:18   \n",
       "1         #1                       Big Tymers  2002  04:43   \n",
       "2         #1          Clipse, Nelly, Postaboy  2003  05:07   \n",
       "3  #1 Player               Red Hot Lover Tone  1995  04:06   \n",
       "4  #1 Stunna  Big Tymers, Lil Wayne, Juvenile  2000  04:41   \n",
       "\n",
       "                                              Lyrics   Genre  \\\n",
       "0  Uh uh uh\\nI just gotta bring it to they attent...  HipHop   \n",
       "1   \\n\\nChorus (2x):(Mannie Fresh)\\nAll the nigga...  HipHop   \n",
       "2  Uh uh uh\\r\\nI just gotta bring it to they atte...  HipHop   \n",
       "3   \\r\\n[Rich Nice]\\r\\nWhat I want you to underst...  HipHop   \n",
       "4  Nigga can't out-stunt me when it come to these...  HipHop   \n",
       "\n",
       "                                                 URL  \n",
       "0   https://www.lyrics.com//lyric/5564474/Nelly/%231  \n",
       "1  https://www.lyrics.com//lyric/26433573/Big+Tym...  \n",
       "2  https://www.lyrics.com//lyric/27233608/Various...  \n",
       "3  https://www.lyrics.com//lyric/2608484/Red+Hot+...  \n",
       "4  https://www.lyrics.com//lyric/3600097/Various+...  "
      ]
     },
     "execution_count": 6,
     "metadata": {},
     "output_type": "execute_result"
    }
   ],
   "source": [
    "data_scraped = pd.read_csv('scraped_data.csv', encoding='UTF8') #importing data\n",
    "print(f'The dataset contains {len(data_scraped)} songs.\\n')\n",
    "\n",
    "data_scraped.head()"
   ]
  },
  {
   "cell_type": "markdown",
   "metadata": {},
   "source": [
    "Before proceeding further, I noticed that there were a number of songs in foreign languages. For the purposes of this project, I'd like all songs to be in English, so I use the scrapy library's LanguageDetector to detect the language of each song, and then filer out non-English songs. \n",
    "\n",
    "The below code sets up the Language detector, with the function detect_language returning the detected language of a particular song. \n",
    "\n",
    "<i>*Note: The below code can take a while to run, so is provided in markdown form. For ease of accessibility, the filtered dataset of English songs, has been saved to a .csv file (scraped_data_langs.csv) and is provided along with this notebook.</i>"
   ]
  },
  {
   "cell_type": "markdown",
   "metadata": {},
   "source": [
    "```\n",
    "#setting up spacy language detector\n",
    "def get_lang_detector(nlp, name):\n",
    "    return LanguageDetector()\n",
    "nlp = spacy.load(\"en_core_web_sm\")\n",
    "Language.factory(\"language_detector\", func=get_lang_detector)\n",
    "nlp.add_pipe('language_detector', last=True)\n",
    "\n",
    "def detect_language(text):\n",
    "    '''\n",
    "    DESCRIPTION:\n",
    "    Returns language of text using spacy's language detector\n",
    "    REQUIRES:\n",
    "    Requires prior setting up of spacy 'nlp' pipe language_detector\n",
    "    PARAMETERS:\n",
    "    text is text to be passed through language detector\n",
    "    OUTPUT:\n",
    "    Returns detected language as string\n",
    "    '''\n",
    "    text_processing = nlp(text) #pass text through pipe\n",
    "    detect_language = text_processing._.language #a dictionary of language and scores\n",
    "    language = detect_language['language']\n",
    "    return language\n",
    "\n",
    "#applying language detector and saving output to .csv\n",
    "data_scraped['Language'] = data_scraped.apply(lambda x: detect_language(x['Lyrics']), axis=1)\n",
    "data_scraped.to_csv('scraped_data_langs.csv', index = False)\n",
    "```"
   ]
  },
  {
   "cell_type": "markdown",
   "metadata": {},
   "source": [
    "Here is an overview to the language distribution of songs. Over 90% of songs are in English, which means I will only lose just under 10% of the dataset."
   ]
  },
  {
   "cell_type": "code",
   "execution_count": 7,
   "metadata": {},
   "outputs": [
    {
     "data": {
      "text/html": [
       "<style type=\"text/css\">\n",
       "</style>\n",
       "<table id=\"T_fa8ce\">\n",
       "  <caption>% Songs by Language</caption>\n",
       "  <thead>\n",
       "    <tr>\n",
       "      <th class=\"blank level0\" >&nbsp;</th>\n",
       "      <th id=\"T_fa8ce_level0_col0\" class=\"col_heading level0 col0\" >Language</th>\n",
       "    </tr>\n",
       "  </thead>\n",
       "  <tbody>\n",
       "    <tr>\n",
       "      <th id=\"T_fa8ce_level0_row0\" class=\"row_heading level0 row0\" >en</th>\n",
       "      <td id=\"T_fa8ce_row0_col0\" class=\"data row0 col0\" >91.19</td>\n",
       "    </tr>\n",
       "    <tr>\n",
       "      <th id=\"T_fa8ce_level0_row1\" class=\"row_heading level0 row1\" >fr</th>\n",
       "      <td id=\"T_fa8ce_row1_col0\" class=\"data row1 col0\" >3.12</td>\n",
       "    </tr>\n",
       "    <tr>\n",
       "      <th id=\"T_fa8ce_level0_row2\" class=\"row_heading level0 row2\" >de</th>\n",
       "      <td id=\"T_fa8ce_row2_col0\" class=\"data row2 col0\" >2.93</td>\n",
       "    </tr>\n",
       "    <tr>\n",
       "      <th id=\"T_fa8ce_level0_row3\" class=\"row_heading level0 row3\" >other</th>\n",
       "      <td id=\"T_fa8ce_row3_col0\" class=\"data row3 col0\" >2.76</td>\n",
       "    </tr>\n",
       "  </tbody>\n",
       "</table>\n"
      ],
      "text/plain": [
       "<pandas.io.formats.style.Styler at 0x21d38cfe520>"
      ]
     },
     "execution_count": 7,
     "metadata": {},
     "output_type": "execute_result"
    }
   ],
   "source": [
    "data_raw = pd.read_csv('scraped_data_langs.csv', encoding='UTF8')\n",
    "\n",
    "#calculating percentage of songs per language\n",
    "lang_prc = data_raw['Language'].value_counts(normalize=True)*100 \n",
    "lang_prc = pd.DataFrame(lang_prc) #convert to dataframe\n",
    "\n",
    "#combining small categories into an 'other' category\n",
    "other = sum(lang_prc['Language'][3:]) #sum of languages to be included in 'other' (excluding top 3)\n",
    "other = pd.Series({'Language':other}) #converting to series\n",
    "other.name = 'other' #giving series index label\n",
    "lang_prc = lang_prc.iloc[0:3,:] #filtering out languages that have been combined\n",
    "lang_prc = lang_prc.append([other]) #appending 'other' row to dataframe\n",
    "\n",
    "#styling\n",
    "lang_prc = lang_prc.style.set_caption(\"% Songs by Language\").format('{:.2f}')\n",
    "\n",
    "#showing\n",
    "lang_prc\n"
   ]
  },
  {
   "cell_type": "markdown",
   "metadata": {},
   "source": [
    "Filtering out foreign songs and an overview of the dataset"
   ]
  },
  {
   "cell_type": "code",
   "execution_count": 8,
   "metadata": {},
   "outputs": [
    {
     "name": "stdout",
     "output_type": "stream",
     "text": [
      "The dataset now contains 13036 English language songs.\n",
      "\n"
     ]
    }
   ],
   "source": [
    "data_raw_en = data_raw[data_raw['Language']=='en'].copy()\n",
    "print(f'The dataset now contains {len(data_raw_en)} English language songs.\\n')"
   ]
  },
  {
   "cell_type": "markdown",
   "metadata": {},
   "source": [
    "#### Checking Null Values"
   ]
  },
  {
   "cell_type": "markdown",
   "metadata": {},
   "source": [
    "As expected, there are some null values in the Year and Length columns. The remaining data columns are fine."
   ]
  },
  {
   "cell_type": "code",
   "execution_count": 9,
   "metadata": {},
   "outputs": [
    {
     "name": "stdout",
     "output_type": "stream",
     "text": [
      "NULL VALUES:\n",
      "\n",
      "Title          0\n",
      "Artist         0\n",
      "Year         286\n",
      "Length      1372\n",
      "Lyrics         0\n",
      "Genre          0\n",
      "URL            0\n",
      "Language       0\n",
      "dtype: int64\n"
     ]
    }
   ],
   "source": [
    "print('NULL VALUES:\\n')\n",
    "print(data_raw_en.isnull().sum())"
   ]
  },
  {
   "cell_type": "markdown",
   "metadata": {},
   "source": [
    "#### Year Data"
   ]
  },
  {
   "cell_type": "markdown",
   "metadata": {},
   "source": [
    "Converting 'Year' column to numeric and identify year range of songs. It seems like we have songs ranging from the 1950s to 2019. \n",
    "\n",
    "I create a column grouping songs into decade bins. There are very little songs pre-1980, so I combine these with 80s songs into one 'pre-1990s' bin."
   ]
  },
  {
   "cell_type": "code",
   "execution_count": 10,
   "metadata": {},
   "outputs": [
    {
     "name": "stdout",
     "output_type": "stream",
     "text": [
      "---Year Outliers---\n",
      "Earliest: 1957.0\n",
      "Latest: 2019.0\n",
      "\n",
      "---Decade Counts---:\n"
     ]
    },
    {
     "data": {
      "text/plain": [
       "00s        6633\n",
       "90s        3506\n",
       "10s        2201\n",
       "pre-90s     410\n",
       "Name: Decade, dtype: int64"
      ]
     },
     "execution_count": 10,
     "metadata": {},
     "output_type": "execute_result"
    }
   ],
   "source": [
    "#convert strings to numeric\n",
    "data_raw_en[\"Year\"] = pd.to_numeric(data_raw_en[\"Year\"])\n",
    "\n",
    "#viewing data\n",
    "print('---Year Outliers---')\n",
    "#print(f'Unique Year Values: {data_raw_en.Year.unique()}\\n')\n",
    "#print(f'Unique Year Values: {data_raw_en.Year.value_counts()}\\n')\n",
    "print(f'Earliest: {min(data_raw_en.Year.unique())}')\n",
    "print(f'Latest: {max(data_raw_en.Year.unique())}\\n')\n",
    "\n",
    "#grouping into decade bins\n",
    "decade_labels = ['pre-90s', '90s', '00s', '10s']\n",
    "decade_bins = [1949, 1989, 1999, 2011, 2021] #bottom not included but top included\n",
    "data_raw_en['Decade'] = pd.cut(data_raw_en['Year'], bins=decade_bins, labels=decade_labels)\n",
    "\n",
    "print('---Decade Counts---:')\n",
    "data_raw_en['Decade'].value_counts()"
   ]
  },
  {
   "cell_type": "markdown",
   "metadata": {},
   "source": [
    "#### Song Duration Data"
   ]
  },
  {
   "cell_type": "markdown",
   "metadata": {},
   "source": [
    "The 'Length' column is currently strings of timestamps. I use the get_seconds function below to convert these strings into number of seconds - in this way we can easily do mathematical operations such as max, min, and mean.\n",
    "\n",
    "There are some outliers in the data, such as very short songs and very long songs. I remove these outliers (songs shorter than 60 seconds and songs longer than 15 minutes)."
   ]
  },
  {
   "cell_type": "code",
   "execution_count": 11,
   "metadata": {},
   "outputs": [
    {
     "name": "stdout",
     "output_type": "stream",
     "text": [
      "---Length Outliers---\n",
      "Maximum Length for song is: 2682.0\n",
      "Minimum Length for song is: 1.0\n",
      "\n"
     ]
    }
   ],
   "source": [
    "#get_seconds function\n",
    "def get_seconds(time):\n",
    "    '''\n",
    "    DESCRIPTION:\n",
    "    Convert string timestamps to seconds\n",
    "    PARAMETERS:\n",
    "    time is a stringed timestamp in the form M:S\n",
    "    OUTPUT\n",
    "    number of seconds as integer\n",
    "    '''\n",
    "    if ':' in str(time):\n",
    "        parts = str(time).split(':')\n",
    "        standards = [60,1] #seconds in 1 minute, 1 second\n",
    "        secs = sum([int(i)*j for i,j in zip(parts, standards)])\n",
    "    else:\n",
    "        secs = np.nan #converting missing data to np.nan\n",
    "    return secs\n",
    "\n",
    "#applying\n",
    "data_raw_en['Length_Seconds'] = data_raw_en['Length'].map(get_seconds)\n",
    "\n",
    "print('---Length Outliers---')\n",
    "print(f'Maximum Length for song is: {data_raw_en.Length_Seconds.max()}')\n",
    "print(f'Minimum Length for song is: {data_raw_en.Length_Seconds.min()}\\n')\n",
    "\n",
    "#remove songs shorter than 1 minute (60 secs) and longer than 15 minutes (900 secs)\n",
    "data_raw_en = data_raw_en.drop(data_raw_en[(data_raw_en.Length_Seconds < 60) | (data_raw_en.Length_Seconds > 900)].index)"
   ]
  },
  {
   "cell_type": "markdown",
   "metadata": {},
   "source": [
    "#### Artist Data"
   ]
  },
  {
   "cell_type": "markdown",
   "metadata": {},
   "source": [
    "A number of songs have multiple artists. It appears that the artist names are split using commas or ampersands. I will convert artist data into a list using the .split() method, with these symbols as the delimeters. This splitting will make it easier to view songs by artist later on."
   ]
  },
  {
   "cell_type": "code",
   "execution_count": 12,
   "metadata": {},
   "outputs": [
    {
     "name": "stdout",
     "output_type": "stream",
     "text": [
      "---Artist Outliers---\n",
      "Longest Artist title is: Caryn Jones, Steve Porcaro, Annette Sanders, Jesse Corti, Geoff Grace, Rodger Bumpass, Brian Jones, Susan Silo, Dawn McMillan, Phillip G. Proctor, Natalia Harris, Maurice La Marche, Jonathon Ungar, Hattie Winston, Tracy Spindler, Brandi Stewart, Gregory Martin, Anna Mathias, Alan Shearman, Emily Bernstein, Michael Jackson, Maxi Anderson, Michael Boddicker, Brad Buxer, Reeve Carney\n",
      "Shortest Artist title is: X\n",
      "\n"
     ]
    }
   ],
   "source": [
    "#viewing outliers\n",
    "print('---Artist Outliers---')\n",
    "print(f'Longest Artist title is: {data_raw_en.loc[data_raw_en.Artist.map(len).idxmax()].Artist}')\n",
    "print(f'Shortest Artist title is: {data_raw_en.loc[data_raw_en.Artist.map(len).idxmin()].Artist}\\n')\n",
    "\n",
    "def artist_split(text):\n",
    "    '''\n",
    "    DESCRIPTION:\n",
    "    Split artist names\n",
    "    PARAMTERS:\n",
    "    text is string of artist names\n",
    "    OUTPIT:\n",
    "    List of artist names\n",
    "    '''\n",
    "    text = re.split(', | & ', text)\n",
    "    return text\n",
    "\n",
    "data_raw_en['Artist'] = data_raw_en['Artist'].map(artist_split)"
   ]
  },
  {
   "cell_type": "markdown",
   "metadata": {},
   "source": [
    "### II.II Cleaning Lyrics Data"
   ]
  },
  {
   "cell_type": "markdown",
   "metadata": {},
   "source": [
    "The lyrics data is the most vital piece of information in the datastet, as it will be fed to the LDA to uncover the latent topics hidden in the song lyrics. There are a number of text processing steps which are common to many natural language processing tasks. These include the lower-casing of all text, the removal of punctuation, tokenisation, and lemmatisation.\n",
    "\n",
    "Other than these, the Rap lyrics need to be cleaned further due to a number of issues. This is mainly due to the use slang in these songs. Slang leads to words being contracted or written in shortened form (even words that are not commonly contracted in the English language), expletives, which in this dataset tend to be partly covered with asterisk (\\*) marks, and other incorrectly spelt words.\n",
    "\n",
    "The below line of code extracts the lyrics data from the dataframe into a list, which should make looping and cleaning easier."
   ]
  },
  {
   "cell_type": "code",
   "execution_count": 13,
   "metadata": {},
   "outputs": [],
   "source": [
    "#extracting lyrics data\n",
    "lyrics = [text.lower() for text in data_raw_en['Lyrics']]"
   ]
  },
  {
   "cell_type": "markdown",
   "metadata": {},
   "source": [
    "On eyeballing the data, I noticed that there are three versions of the apostrophe used to seperated contracted phrases (',\\`,’). In order to make cleaning easier, I used regex to convert these into the same apostrophe mark."
   ]
  },
  {
   "cell_type": "code",
   "execution_count": 14,
   "metadata": {},
   "outputs": [],
   "source": [
    "#grouping contraction marks\n",
    "lyrics = [re.sub(r\"[\\`\\’]\", \"\\'\", text) for text in lyrics]"
   ]
  },
  {
   "cell_type": "markdown",
   "metadata": {},
   "source": [
    "The cleaning process is divided into three stages. In Stage I, I clean the lyrics of common clitic contractions and most punctation marks. Stage II is where I tokenise and lemmatise the words. Stage III is where I identify incorrectly spelled words and slang words, which are either cleaned or tagged as 'unknown'."
   ]
  },
  {
   "cell_type": "markdown",
   "metadata": {},
   "source": [
    "#### STAGE I: Clitic Contractions and Punctuation"
   ]
  },
  {
   "cell_type": "markdown",
   "metadata": {},
   "source": [
    "Unfortunately, the common use of punctuation in slang means that I cannot clean the text of all punctuation in one fell swoop, as this would make it impossible to identify words that have been shortened. Hence, this must be done in a step by step process, using the helper functions below.\n",
    "\n",
    "<ul>\n",
    "    <li>The abbvs_period function removes the period from within abbreviations. In this way, abbreviations such as 'U.S.A' all become 'USA', thus enabling the LDA to identify them as the same word.</li>\n",
    "    <li>The remove_hyphens function removes the hyphens joining phrases and seperates the underlying words. So 'one-on-one' becomes 'one on one', enabling the algorithm to process each word seperately.</li>\n",
    "    <li>The remove_between_parenthesis function removes any words that appear in between parenthesis. Inspection of the lyrics suggests that these parenthesis mainly contain extra information such as the name of a singer singing a certain part of a song, or to mark the chorus.</li>\n",
    "    <li>The remove_common_punc function removes punctuation marks from the text that are normally not used in contractions or slang. Importantly, this does not include the apostrophe (') or the asterisk (*), which shall be kept for further examination below.</li>\n",
    "    <li> The common_contractions function uses regex to seperate phrases that are commonly contracted in the English language. So 'can't' becomes 'can not'; again, the scope is to allow the LDA to process these words seperately.</li>\n",
    "</ul>"
   ]
  },
  {
   "cell_type": "code",
   "execution_count": 15,
   "metadata": {},
   "outputs": [],
   "source": [
    "def abbvs_period(text):\n",
    "    '''\n",
    "    DESCRIPTION:\n",
    "    Removes the period (.) from within abbreviations (such as U.S.A) and combines them into one token (USA)\n",
    "    (though doesn't remove periods not between characters, such as at end of sentence)\n",
    "    PARAMETERS:\n",
    "    text is string of text to be processed\n",
    "    OUTPUT\n",
    "    Outputs a string of text\n",
    "    '''\n",
    "    text = re.sub(r\"(?<!\\w)([A-Za-z])\\.\", r\"\\1\", text) #/1 means match the first bracketed term (?<!\\w)\n",
    "    return text\n",
    "\n",
    "def remove_hyphens(text):\n",
    "    '''\n",
    "    DESCRIPTION:\n",
    "    Removes hyphen joining phrases and replace with white space (e.g. 'one-on-one' becomes 'one on one')\n",
    "    PARAMETERS:\n",
    "    text is string of text to be processed\n",
    "    OUTPUT\n",
    "    Outputs a string of text\n",
    "    '''\n",
    "    text = text.replace('-',' ')\n",
    "    return text\n",
    "\n",
    "def remove_parenthesis(text):\n",
    "    '''\n",
    "    DESCRIPTION:\n",
    "    Removes text between parentheses of type (), [], {} \n",
    "    PARAMETERS:\n",
    "    text is string of text to be processed\n",
    "    OUTPUT\n",
    "    Outputs a string of text\n",
    "    '''\n",
    "    pattern = \"[\\(\\[\\{].*?[\\)\\]\\}]\" \n",
    "    #opening paranthesis, maybe followed by any character, and closing parenthesis.\n",
    "    #? ensures that regex is not greedy and only deletes text up to the first closing parenthesis\n",
    "    text = re.sub(pattern, '', text)\n",
    "    return text\n",
    "\n",
    "def remove_common_punc(text):\n",
    "    '''\n",
    "    DESCRIPTION\n",
    "    Remove common punctuation marks [,!?\\\".;:({)}]\n",
    "    PARAMETERS:\n",
    "    text is string of text to be processed\n",
    "    OUTPUT\n",
    "    Outputs a string of text\n",
    "    '''\n",
    "    pattern = \"[,!?\\\"\\.;:\\(\\[\\{\\)\\]\\}]\" #need to use \\ before certain characters not to confuse regex with its special characters\n",
    "    text = re.sub(pattern, ' ', text)\n",
    "    return text\n",
    "\n",
    "def common_contractions(text):\n",
    "    '''\n",
    "    DESCRIPTION:\n",
    "    Seperates phrases commonly contracted in the English language (e.g. 'can't')\n",
    "    PARAMETERS:\n",
    "    text is string of text to be processed\n",
    "    OUTPUT\n",
    "    Outputs a string of text\n",
    "    '''\n",
    "    text = re.sub(r\"\\'re\", \" are\", text)\n",
    "    text = re.sub(r\"\\'m\", \" am\", text)\n",
    "    text = re.sub(r\"\\'s\", \" is\", text) \n",
    "    text = re.sub(r\"\\'d\", \" would\", text)\n",
    "    text = re.sub(r\"\\'ll\", \" will\", text)\n",
    "    text = re.sub(r\"won\\'t\", \"will not\", text)\n",
    "    text = re.sub(r\"can\\'t\", \"can not\", text)\n",
    "    text = re.sub(r\"don\\'t\", \"do not\", text)\n",
    "    text = re.sub(r\"ain\\'t\", \"is not\", text) \n",
    "    text = re.sub(r\"n\\'t\", \" not\", text)\n",
    "    \n",
    "    #number of different ways of spelling 'I have' (i'v, i've, iv'e)\n",
    "    #regex code ensures that substitution only takes place when contraction is at end of word ([\\s\\.])\n",
    "    text = re.sub(r\"\\'ve[\\s\\.]\", \" have \", text)\n",
    "    text = re.sub(r\"v\\'e[\\s\\.]\", \" have \", text)\n",
    "    text = re.sub(r\"\\'v[\\s\\.]\", \" have \", text)\n",
    "    \n",
    "    return text\n"
   ]
  },
  {
   "cell_type": "markdown",
   "metadata": {},
   "source": [
    "Applying stage I cleaning:"
   ]
  },
  {
   "cell_type": "code",
   "execution_count": 16,
   "metadata": {},
   "outputs": [],
   "source": [
    "#combining all stage I functions\n",
    "def clean_stageI(list_of_strings):\n",
    "    '''\n",
    "    PARAMETERS:\n",
    "    list_of_strings is list of strings\n",
    "    OUTPUT:\n",
    "    list of cleaned strings\n",
    "    '''\n",
    "    I = [abbvs_period(text) for text in list_of_strings]\n",
    "    II = [remove_hyphens(text) for text in I]\n",
    "    III = [remove_parenthesis(text) for text in II]\n",
    "    IV = [remove_common_punc(text) for text in III]\n",
    "    V = [common_contractions(text) for text in IV]\n",
    "\n",
    "    return V\n",
    "\n",
    "lyrics_clI = clean_stageI(lyrics) "
   ]
  },
  {
   "cell_type": "markdown",
   "metadata": {},
   "source": [
    "#### STAGE II: Tokenisation and Lemmatisation"
   ]
  },
  {
   "cell_type": "markdown",
   "metadata": {},
   "source": [
    "Following the first phase of cleaning, the next step is to tokenise and lemmatise the text. \n",
    "\n",
    "The function WStokenise performs tokenisation, preparing the text for being passed into the lemmatisation function below. Note that tokenisation is performed on white space, rather than through nltk's tokenisation function. The reason is that nltk's function tends to seperate words tied by a punctuation mark (so a slang such as 'e'rybody' becomes 'e' and 'rybody') - I do not want this for now as I want to be able to identify slang words using the apostrophe further below. \n",
    "\n",
    "The function word_lemmatizer lemmatises the wokens using wordnet's lemmatizer. Lemmatisation is done to convert words into their dictionary form. This is useful because it enables to algorithm to process several versions of the same root as one word (e.g. 'knowing', 'knew', 'know'). Furthermore, I can then compare the dictionary words to a corpus of known English words and identify slangs and other unknown or misspelled words."
   ]
  },
  {
   "cell_type": "code",
   "execution_count": 17,
   "metadata": {},
   "outputs": [],
   "source": [
    "def WStokenise(text):\n",
    "    \"\"\"\n",
    "    DESCRIPTION:\n",
    "    Tokenises string (by white space)\n",
    "    PARAMETERS:\n",
    "    text is string of text to be processed\n",
    "    OUTPUT\n",
    "    Outputs a list of tokens\n",
    "    \"\"\"\n",
    "    tokens = text.split()\n",
    "    return tokens\n",
    "\n",
    "def word_lemmatizer(token_list):\n",
    "    '''\n",
    "    DESCRIPTION:\n",
    "    Lemmatizes tokens\n",
    "    REQUIRES:\n",
    "    Requires WordNetLemmatizer object named 'lmt'\n",
    "    PARAMETERS:\n",
    "    token_list is a list of tokens \n",
    "    OUTPUT\n",
    "    Outputs a list of lemmatized tokens\n",
    "    '''\n",
    "\n",
    "    #we may have elements consisting of just white space from previous cleaning.\n",
    "    token_list = [token for token in token_list if len(token) >= 1] \n",
    "    \n",
    "    #obtain parts of speech tag (for each word, returns a tuple containing (word, part of speech))\n",
    "    tags = nltk.pos_tag(token_list)\n",
    "    \n",
    "    lemmatized_text = []\n",
    "    \n",
    "    #for each word, check the nltk part of speech tag and lemmatize \n",
    "    #note that pos for nltk and wordnet lemmatizer are different (e.g. 'J' vs. 'a' for adjective)\n",
    "    for token, tag in tags:\n",
    "        if tag.startswith('N'): #noun\n",
    "            lemmatized_text.append(lmt.lemmatize(token, pos = 'n'))\n",
    "        elif tag.startswith('V'): #verb\n",
    "            lemmatized_text.append(lmt.lemmatize(token, pos = 'v'))\n",
    "        elif tag.startswith('J'): #adjective\n",
    "            lemmatized_text.append(lmt.lemmatize(token, pos = 'a'))\n",
    "        elif tag.startswith('R'): #adverb\n",
    "            lemmatized_text.append(lmt.lemmatize(token, pos = 'r'))\n",
    "        else:          \n",
    "            lemmatized_text.append(token)\n",
    "      \n",
    "    return lemmatized_text\n",
    "\n",
    "\n",
    "lmt = WordNetLemmatizer()"
   ]
  },
  {
   "cell_type": "markdown",
   "metadata": {},
   "source": [
    "Applying stage II cleaning"
   ]
  },
  {
   "cell_type": "code",
   "execution_count": 18,
   "metadata": {},
   "outputs": [],
   "source": [
    "lmt = WordNetLemmatizer() #setting up wordnet lemmatizer\n",
    "\n",
    "#applying functions\n",
    "wstokens = [WStokenise(text) for text in lyrics_clI]\n",
    "wstokens_lem = [word_lemmatizer(token_list) for token_list in wstokens]"
   ]
  },
  {
   "cell_type": "markdown",
   "metadata": {},
   "source": [
    "#### STAGE III: Identifying Unknowns"
   ]
  },
  {
   "cell_type": "markdown",
   "metadata": {},
   "source": [
    "Now that words have been tokenised and converted to dicitonary form, I can start identifying unknown words by comparing them to an existing corpus. \n",
    "\n",
    "For this purpose, I am using the combination of two corpora, nltk's word corpus and the wordnet corpus. These are combined into an english_vocab variable to give a total of over 320k known words.\n"
   ]
  },
  {
   "cell_type": "code",
   "execution_count": 19,
   "metadata": {},
   "outputs": [
    {
     "name": "stdout",
     "output_type": "stream",
     "text": [
      "English vocabulary corpus consists of 323592 words.\n"
     ]
    }
   ],
   "source": [
    "#combining nltk and wordnet corpora\n",
    "nltk_corp = [word.lower() for word in nltk.corpus.words.words()] \n",
    "wordnet_corp = [word.lower() for word in wordnet.words()] \n",
    "english_vocab = set(nltk_corp + wordnet_corp)\n",
    "print(f'English vocabulary corpus consists of {len(english_vocab)} words.')"
   ]
  },
  {
   "cell_type": "markdown",
   "metadata": {},
   "source": [
    "I now want to compare the lyrics dataset with this english vocabulary. The below function unknown_words does just this.\n",
    "\n",
    "Remember that we have not yet removed the apostrophe mark from the dataset - in some cases, I realised that some words had this mark not because they were contracted, but because the apostrophe was used as a quotation mark. In order to prevent known words with quotation marks from falling into the unknowns list, the function includes a quick check whereby words beginning or ending with apostrophes are temporarily cleaned of the mark and then compared with the english vocabulary.\n"
   ]
  },
  {
   "cell_type": "code",
   "execution_count": 20,
   "metadata": {},
   "outputs": [],
   "source": [
    "def unknown_words(dataset, vocab):\n",
    "    '''\n",
    "    DESCRIPTION:\n",
    "    Compares dataset to an existing vocabulary and lists unrecognised words\n",
    "    PARAMETERS:\n",
    "    dataset is a string of words in the dataset\n",
    "    vocab is the vocabulary being compared to\n",
    "    RETURNS\n",
    "    list of words in dataset not in vocab\n",
    "    '''\n",
    "    unrecognised = set(dataset) - set(english_vocab)\n",
    "    \n",
    "    unknowns = []\n",
    "    for token in unrecognised:\n",
    "        if token.startswith('\\'') or token.endswith('\\''):\n",
    "            token_test = re.sub('[\\']', '', token)\n",
    "            token_testlem = lmt.lemmatize(token_test) #lemmatise the cleaned word \n",
    "            if token_testlem not in english_vocab:\n",
    "                unknowns.append(token)\n",
    "        else: \n",
    "            unknowns.append(token)\n",
    "    \n",
    "    return set(unknowns)"
   ]
  },
  {
   "cell_type": "markdown",
   "metadata": {},
   "source": [
    "Applying function"
   ]
  },
  {
   "cell_type": "code",
   "execution_count": 21,
   "metadata": {},
   "outputs": [
    {
     "name": "stdout",
     "output_type": "stream",
     "text": [
      "There are 38398 unknown word types in the dataset (out of 64325).\n"
     ]
    }
   ],
   "source": [
    "#use list comprehension to combine all tokens in the dataset into one string\n",
    "dataset_corpus = [token for sublist in wstokens_lem for token in sublist]\n",
    "#get list of unkowns\n",
    "unknowns = unknown_words(dataset_corpus, english_vocab)\n",
    "print(f'There are {len(unknowns)} unknown word types in the dataset (out of {len(set(dataset_corpus))}).')\n"
   ]
  },
  {
   "cell_type": "markdown",
   "metadata": {},
   "source": [
    "Over half of unknown words are unknown, which is not ideal (though expected given that most slang is still uncleaned). However, what is more important is the frequency of these unknowns compared to known words. While it is impossible to clean all these unknown words, I will try and identify and clean those unknown words that have a high frequency, while removing the rest so that they will not interfere with the algorithm. The treshold frequency for cleaning will be around 150 instances.\n",
    "\n",
    "The unknown_frequency function returns a dictionary of how many times each unknown word appears in the corpus.\n"
   ]
  },
  {
   "cell_type": "code",
   "execution_count": 22,
   "metadata": {},
   "outputs": [],
   "source": [
    "def unknown_frequency(dataset, unknowns):\n",
    "    '''\n",
    "    DESCRIPTION:\n",
    "    Count instances of each word in unknowns in the dataset\n",
    "    PARAMETERS:\n",
    "    dataset is a string of words in the dataset\n",
    "    unknowns is list of unknown words\n",
    "    RETURNS\n",
    "    dictionary of unknown words and counts\n",
    "    '''\n",
    "    #counting each instances of each unknown    \n",
    "    unknown_counts = {}\n",
    "    for token in unknowns:\n",
    "        count = dataset.count(token)\n",
    "        unknown_counts[token] = count\n",
    "        \n",
    "    #sorted values in descending order\n",
    "    counts_sorted = {k: v for k, v in sorted(unknown_counts.items(), key=lambda item: item[1], reverse = True)}\n",
    "       \n",
    "    return counts_sorted"
   ]
  },
  {
   "cell_type": "markdown",
   "metadata": {},
   "source": [
    "Applying function: \n",
    "\n",
    "<i>*Note: The below code can take a while to run, so is provided in markdown form. The output was necessary to me for to establish the cleaning process done below, but is not necessary for the final output of this project.</i>"
   ]
  },
  {
   "cell_type": "markdown",
   "metadata": {},
   "source": [
    "```\n",
    "unknown_counts = unknown_frequency(dataset_corpus, unknowns)\n",
    "\n",
    "#summing up unknown frequencies\n",
    "unknown_instances = sum(unknown_counts.values())\n",
    "print(f'The frequency of unknown words is {unknown_instances} (out of {len(dataset_corpus)})')\n",
    "\n",
    "#counting estimated number of instances to be clean and % of words in dataset lost \n",
    "unknowns_to_clean = 0\n",
    "instances_to_clean = 0\n",
    "for k,v in unknown_counts.items():\n",
    "    if v >= 150:\n",
    "        unknowns_to_clean += 1\n",
    "        instances_to_clean += v\n",
    "\n",
    "print(f'If unknowns with frequencies of over 150 are cleaned, we will be saving {unknowns_to_clean} distinct words, comprising {instances_to_clean} instances.\\n')\n",
    "\n",
    "instances_to_remove = unknown_instances - instances_to_clean\n",
    "pc_lost_words = round((instances_to_remove/len(dataset_corpus))*100,2)\n",
    "print(f'This will leave {instances_to_remove} unknown instances to be removed, losing just {pc_lost_words}% of the total dataset')\n",
    "\n",
    "```\n"
   ]
  },
  {
   "cell_type": "markdown",
   "metadata": {},
   "source": [
    "After identifying the most common unknown words, the below code performs the necessary cleaning:\n",
    "\n",
    "<ul>\n",
    "    <li>A large number of unknown instances are gerunds (-ing) words that have been shortened. The most common were gerunds with the end 'g' removed (e.g. 'knowin' instead of 'knowing), gerunds with the end 'g' replaced by an apostrophe (e.g. 'knowin'' instead of 'knowing), and gerunds with the -ing substituted with an ''n' (e.g. 'know'n' instead of 'knowing). The function gerund_contractions cleans these instances.</li>\n",
    "    <li>A number of words have been shortened or covered using punctuation - I manually try to clean these common words using the slang_contractions function, which also makes use of the dictionary d_slang_contractions.</li>\n",
    "    <li>Now that we have cleaned all necessary slang and contractions, the only_alpha function removes any remaining punctuation and words with non-alpha characters (digits).</li>\n",
    "    <li>The function misc_cleaning does some more manual cleaning of words by calling on the dictionary d_misc_cleaning - these include words that are commonly misspelled in the text, words that have been shortened, or uncommon words that were not recognized by the wordnet corpus and hence not lemmatized (in this case I simply lemmatised the words by hand and added them to the english vocabulary in the vocab_append list). These words were often names of singers or brand names - it appears that rappers love to name-drop in their lyrics!</li>\n",
    "    <li>I also remove words with two characters or less as these clutter the dataset and provide little meaning. This is done using the function remove_shorts.\n"
   ]
  },
  {
   "cell_type": "code",
   "execution_count": 23,
   "metadata": {},
   "outputs": [],
   "source": [
    "def gerund_contractions(token_list):\n",
    "    '''\n",
    "    DESCRIPTION:\n",
    "    Cleans gerund contractions (-ing words)\n",
    "    PARAMETERS:\n",
    "    token_list is a list of tokens\n",
    "    OUTPUT:\n",
    "    Returns cleaned list of tokens\n",
    "    '''\n",
    "    clean_list = []\n",
    "    exceptions = (['cousin', 'skin', 'begin', 'within', 'twin', 'shin', 'spin', 'grin', 'thin', \n",
    "                   'chin','again', 'akin'])\n",
    "    for token in token_list:\n",
    "        \n",
    "        #words ending in -in preceded by a vowel and longer than 3 letters            \n",
    "        if re.search('[b-df-hj-np-tv-z]in$', token) and len(token) > 3 and token not in exceptions:\n",
    "            clean_token = re.sub(r\"in$\", \"ing\", token) \n",
    "            \n",
    "        #words ending in 'n or 'in\n",
    "        elif re.search(r\"\\w*\\'i?n\\b\", token):\n",
    "            clean_token = re.sub(r\"\\'i?n\", \"\", token) #i is optional ('in)\n",
    "        \n",
    "        #words ending in -in'   \n",
    "        elif re.search(r\"[a-z]in\\'+\", token): #sometimes they have more than one apostrophe\n",
    "            clean_token = re.sub(r\"in\\'+\", \"ing\", token) \n",
    "            \n",
    "        else: \n",
    "            clean_token = token\n",
    "        \n",
    "        clean_list.append(clean_token)\n",
    "            \n",
    "    return clean_list\n",
    "\n",
    "def slang_contractions(token_list):\n",
    "    '''\n",
    "    DESCRIPTION:\n",
    "    Cleans slang words shortened by punctuation\n",
    "    PARAMETERS:\n",
    "    token_list is a list of tokens\n",
    "    OUTPUT:\n",
    "    Returns cleaned list of tokens\n",
    "    '''\n",
    "    clean_list = []\n",
    "    for token in token_list:\n",
    "        \n",
    "        #use cleaning dictionary\n",
    "        if token in d_slang_contractions.keys():\n",
    "            clean_token = d_slang_contractions[token]\n",
    "            \n",
    "        #if 'n' is between two words, then it is and (e.g. rock'n'roll)\n",
    "        elif re.search('[a-zA-Z]\\'n\\'[a-zA-Z]', token): \n",
    "            clean_token = re.sub(r\"\\'n\\'\", \" and \", token) \n",
    "            \n",
    "        elif token in [\"\\'cause\", \"cause\"]:\n",
    "            clean_token = 'because'\n",
    "\n",
    "        elif token in ['\\'bout', 'bout']:\n",
    "            clean_token = 'about'\n",
    "\n",
    "        elif token in ['n*gga', 'n*ggas', 'n****s','n****']:\n",
    "            clean_token = 'nigger'  \n",
    "\n",
    "        #contractions of 'every' words (e.g. 'e'rybody')\n",
    "        elif token.startswith('e') and token.endswith('ry'):\n",
    "            clean_token = 'every'\n",
    "\n",
    "        elif token.startswith('e') and token.endswith('thing'):\n",
    "            clean_token = 'everything'\n",
    "\n",
    "        elif token.startswith('e') and token.endswith('body'):\n",
    "            clean_token = 'everybody'\n",
    "\n",
    "        elif token.startswith('e') and token.endswith('time'):\n",
    "            clean_token = 'every time'\n",
    "\n",
    "        elif token.startswith('e') and token.endswith('where'):\n",
    "            clean_token = 'everywhere'\n",
    "\n",
    "        elif token.startswith('e') and token.endswith('one'):\n",
    "            clean_token = 'everyone'\n",
    "\n",
    "        else: clean_token = token\n",
    "\n",
    "        clean_list.append(clean_token)\n",
    "                       \n",
    "    return clean_list\n",
    "\n",
    "\n",
    "def only_alpha(token_list):\n",
    "    '''\n",
    "    DESCRIPTION\n",
    "    Cleans any remaining punctuation and removes words containing digits.\n",
    "    PARAMETERS:\n",
    "    token_list is a list of tokens\n",
    "    OUTPUT:\n",
    "    Returns cleaned list of tokens\n",
    "    '''\n",
    "    alpha_list = []\n",
    "    for token in token_list:\n",
    "        token_xpunc = token.translate(str.maketrans('', '', string.punctuation))\n",
    "        if token_xpunc.isalpha() == False:\n",
    "            continue\n",
    "        else:\n",
    "            alpha_list.append(token_xpunc)\n",
    "    return alpha_list\n",
    "\n",
    "\n",
    "def misc_cleaning(token_list):\n",
    "    '''\n",
    "    DESCRIPTION:\n",
    "    Miscellaneaous token cleaning\n",
    "    PARAMETERS:\n",
    "    token_list is a list of tokens\n",
    "    OUTPUT:\n",
    "    Returns cleaned list of tokens\n",
    "    '''\n",
    "    clean_list = []\n",
    "    for token in token_list:\n",
    "\n",
    "        #use cleaning dicitonary\n",
    "        if token in d_misc_cleaning.keys():\n",
    "            clean_token = d_misc_cleaning[token]\n",
    "\n",
    "        else: clean_token = token\n",
    "\n",
    "        clean_list.append(clean_token)\n",
    "                       \n",
    "    return clean_list\n",
    "\n",
    "def remove_shorts(token_list):\n",
    "    '''\n",
    "    DESCRIPTION:\n",
    "    Removes words of two or less characters\n",
    "    PARAMETERS:\n",
    "    token_list is a list of tokens\n",
    "    OUTPUT:\n",
    "    Returns cleaned list of tokens\n",
    "    '''\n",
    "    token_list = [token for token in token_list if len(token) > 2]\n",
    "    return token_list\n"
   ]
  },
  {
   "cell_type": "code",
   "execution_count": 24,
   "metadata": {},
   "outputs": [],
   "source": [
    "#dictionary used by slang_contractions function\n",
    "d_slang_contractions = ({\n",
    "    'lil\\'':'little',\n",
    "    'sh*t':'shit',\n",
    "    's***':'shit',\n",
    "    'd*ck':'dick',\n",
    "    'f*ck':'fuck',\n",
    "    'f***':'fuck',\n",
    "    '\\'n\\'':'and',\n",
    "    'y\\'all': 'you all',\n",
    "    'why\\'all': 'why are you all',\n",
    "    '&':'and',\n",
    "    'b****':'bitch'\n",
    "})\n",
    "\n",
    "#dictionary used by misc_cleaning function\n",
    "d_misc_cleaning = ({\n",
    "    'ballers': 'baller', #US slang for player\n",
    "    'glocks': 'glock', #type of gun\n",
    "    'eazy': 'easy',\n",
    "    'krazy': 'crazy',\n",
    "    'hating': 'hate',\n",
    "    'imma': 'i am going to',\n",
    "    'mothafucking': 'motherfuck',\n",
    "    'whatchu': 'what you',\n",
    "    'girls': 'girl',\n",
    "    'mics': 'mic', #short for microphone\n",
    "    'dem': 'them',\n",
    "    'inna': 'in',\n",
    "    'hella': 'very',\n",
    "    'repping': 'rep',\n",
    "    'sipping': 'sip',\n",
    "    'luv': 'love',\n",
    "    'baddest': 'worst',\n",
    "    'muthafucka': 'motherfucker',\n",
    "    'philly': 'philadelphia',\n",
    "    'yup': 'yes',\n",
    "    'im': 'i am',\n",
    "    'blunts': 'blunt', #cigar\n",
    "    'aight': 'alright',\n",
    "    'finna': 'going to',\n",
    "    'shoulda': 'should have',\n",
    "    'thugging': 'thug',\n",
    "    'thugs':'thug',\n",
    "    'dr': 'doctor',\n",
    "    'bro': 'brother',\n",
    "    'muthafucking': 'motherfuck',\n",
    "    'others': 'other',\n",
    "    'boyz': 'boy',\n",
    "    'balling': 'getting rich', \n",
    "    'thangs': 'thing',\n",
    "    'thang': 'thing',\n",
    "    'dawg': 'dude',\n",
    "    'dawgs':'dude',\n",
    "    'lemme': 'let me',\n",
    "    'whatcha': 'what you',\n",
    "    'gots': 'got',\n",
    "    'def': 'definitely', \n",
    "    'cuz': 'because', \n",
    "    'doin': 'doing',\n",
    "    'boys': 'boy',\n",
    "    'goin': 'going',\n",
    "    'homies': 'homie', \n",
    "    'lil': 'little',\n",
    "    'gimme': 'give me',\n",
    "    'outta': 'out of',\n",
    "    'shorty': 'shawty', #term of endearment\n",
    "    'tryna': 'trying to',\n",
    "    'dem': 'them',\n",
    "    'motherfucking': 'motherfuck',\n",
    "    'u': 'you',\n",
    "    'ya': 'you',\n",
    "    'gonna': 'going to',\n",
    "    'wanna': 'want to',\n",
    "    'gotta': 'got to',\n",
    "    'lotta': 'lot of',\n",
    "    'ta':'to',\n",
    "    'babe':'baby',\n",
    "    'nigga':'nigger',\n",
    "    'niggas':'nigger',\n",
    "    'niggaz':'nigger',\n",
    "    'ol':'old',\n",
    "    'nuff':'enough',\n",
    "    'hol':'hole',\n",
    "    'jus':'just',\n",
    "    'nuthing': 'nothing',\n",
    "    'bein': 'being',\n",
    "    'playas': 'player',\n",
    "    'coulda': 'could have',\n",
    "    'woulda': 'would have',\n",
    "    'muthafuckas': 'motherfucker',\n",
    "    'sucka': 'sucker',\n",
    "    'witcha': 'with you',\n",
    "    'anytime': 'any time',\n",
    "    'getcha': 'get you',\n",
    "    'friends': 'friend',\n",
    "    'brotha': 'brother',\n",
    "    'sumthing': 'something',\n",
    "    'suckas': 'sucker',\n",
    "    'wifey': 'wife',\n",
    "    'girlies': 'girl',\n",
    "    'thru': 'through',\n",
    "    'diamonds': 'diamond',\n",
    "    'thugged': 'thug',\n",
    "    'motherfucka': 'motherfucker',\n",
    "    'hustla': 'hustler',\n",
    "    'freek': 'freak',\n",
    "    'mutha': 'mother',\n",
    "    'shorties': 'shawty',\n",
    "    'yall': 'you all',\n",
    "    'tru': 'through',\n",
    "    'mothafucka': 'motherfucker',\n",
    "    'sorta': 'sort of',\n",
    "    'fellas': 'fellow',\n",
    "    'wassup': 'what is up',\n",
    "    'whassup': 'what is up',\n",
    "    'dammit': 'damn it',\n",
    "    'gotcha:': 'got you',\n",
    "    'oughta ': 'ought to',\n",
    "    'motha':'mother',\n",
    "    'witchu':'with you',\n",
    "    'brothas': 'brother',\n",
    "    'everythang': 'everything',\n",
    "    'mothafuckas': 'motherfucker',\n",
    "    'dollas': 'dollar',\n",
    "    'wantcha': 'want you',\n",
    "    'sweeter': 'sweet',\n",
    "    'bros': 'brother',\n",
    "    'shes': 'she is',\n",
    "    'gangstas': 'gangster',\n",
    "    'gangsta':'gangster',\n",
    "    'biatch': 'bitch',\n",
    "    'thighs': 'thigh',\n",
    "    'gimmie': 'give me',\n",
    "    'somthing': 'something',\n",
    "    'cadillacs':'cadillac',\n",
    "    'bentleys':'bentley',\n",
    "    'goodnight': 'good night',\n",
    "    'texting':'text',\n",
    "    'motherfuckas': 'motherfucker',\n",
    "    'muhfuckers': 'motherfucker',\n",
    "    'muthafucker': 'motherfucker',\n",
    "    'hennessy': 'hennessey',\n",
    "    'em':'them'\n",
    "})\n",
    "            \n",
    "#words to append to vocabulary\n",
    "vocab_append = (['busta', 'gucci', 'shawty', 'dogg', 'kush', 'weezy', 'glock', 'biggie', 'licky', \n",
    "                 'phat', 'kane', 'benz', 'mic', 'southside', 'homie', 'bentley', 'cadillac', 'dro',\n",
    "                'motherfuck','porsche','gotti',  'motherfucker', 'sucker', 'chanel', 'ferrari', \n",
    "                 'diamond','prada','grammy', 'hennessey', 'mega', 'timbaland', 'bugatti', \n",
    "                 'harley', 'tupac', 'royce', 'eminem', 'barbie', 'bacardi', 'lamborghini', \n",
    "                 'dancefloor', 'adidas', 'angeles', 'santana', 'chevrolet', 'jacuzzi', 'ludacris',\n",
    "                 'instagram', 'vuitton', 'swole', 'swell', 'deuce', 'beyonce', 'dancehall', \n",
    "                 'rockstar', 'hottie', 'armani', 'shakira', 'heineken', 'corleone', 'britney', \n",
    "                 'reebok', 'rolex'])\n"
   ]
  },
  {
   "cell_type": "markdown",
   "metadata": {},
   "source": [
    "Applying stage III cleaning"
   ]
  },
  {
   "cell_type": "code",
   "execution_count": 25,
   "metadata": {},
   "outputs": [],
   "source": [
    "#appending new words to vocabulary\n",
    "english_vocab.update(vocab_append)\n",
    "\n",
    "#combining functions\n",
    "def clean_stageIII(list_of_lists):\n",
    "    '''\n",
    "    PARAMETERS:\n",
    "    list_of_lists is list of token lists\n",
    "    OUTPUT:\n",
    "    List of cleaned token lists\n",
    "    '''\n",
    "    I = [gerund_contractions(token_list) for token_list in list_of_lists]\n",
    "    II = [slang_contractions(token_list) for token_list in I]\n",
    "    III = [only_alpha(token_list) for token_list in II]\n",
    "    IV = [misc_cleaning(token_list) for token_list in III]\n",
    "    V = [remove_shorts(token_list) for token_list in IV]\n",
    "\n",
    "    return V\n",
    "\n",
    "#applying\n",
    "lyrics_clIII = clean_stageIII(wstokens_lem) "
   ]
  },
  {
   "cell_type": "markdown",
   "metadata": {},
   "source": [
    "#### Final Stage: Preparing Lyrics for LDA"
   ]
  },
  {
   "cell_type": "markdown",
   "metadata": {},
   "source": [
    "Now that the lyrics have been thoroughly cleaned, all that remains is to run nltk's tokeniser and lemmatizer on the data using function final_cleaning (just to make sure that everything is in order), and to tag all remaining unknown words as 'UNK' using function map_unknowns.\n",
    "\n",
    "Cleaned data is then saved to .csv file."
   ]
  },
  {
   "cell_type": "code",
   "execution_count": 26,
   "metadata": {},
   "outputs": [],
   "source": [
    "def final_cleaning(token_list):\n",
    "    '''\n",
    "    DESCRIPTION\n",
    "    Tokenise and lemmatise words in preparing for LDA algorithm using nltk and wordnet\n",
    "    PARAMETERS:\n",
    "    token_list is a list of tokens\n",
    "    OUTPUT:\n",
    "    Returns cleaned list of tokens\n",
    "    \n",
    "    '''\n",
    "    text = ' '.join(token_list)\n",
    "    nltk_tokens = word_tokenize(text)\n",
    "    song_lemmas = word_lemmatizer(nltk_tokens)\n",
    "    return song_lemmas\n",
    "\n",
    "def map_unknowns(token_list, mapping_dict):\n",
    "    '''\n",
    "    DESCRIPTION\n",
    "    Translates words according to mapping in given dictionary.\n",
    "    PARAMETERS\n",
    "    token_list is a list of tokens\n",
    "    mapping_dict is translation dictionary\n",
    "    OUTPUT\n",
    "    List of translated tokens\n",
    "    '''\n",
    "    trans = [mapping_dict.get(token,token) for token in token_list]\n",
    "    #mapping_dict.get(key, default)\n",
    "    #key is word key to get from mapping dict\n",
    "    #default is value to return if word not in mapping dict (i.e. if word is not in unkown)\n",
    "    \n",
    "    return trans"
   ]
  },
  {
   "cell_type": "code",
   "execution_count": 27,
   "metadata": {},
   "outputs": [],
   "source": [
    "#applying final_cleaning function\n",
    "lyrics_cleaned = [final_cleaning(token_list) for token_list in lyrics_clIII]\n",
    "\n",
    "#new list of unknown words (post-cleaning)\n",
    "dataset_corpus_v2 = [token for sublist in wstokens_lem for token in sublist] #full corpus string\n",
    "unknowns_v2 = unknown_words(dataset_corpus_v2, english_vocab)\n",
    "\n",
    "#tagging unknown words as 'UNK'\n",
    "unk_mapping = {}\n",
    "for word in unknowns_v2:\n",
    "    unk_mapping[word] = 'UNK'   \n",
    "#applying\n",
    "lyrics_mapped = [map_unknowns(token_list, unk_mapping) for token_list in lyrics_cleaned]\n"
   ]
  },
  {
   "cell_type": "markdown",
   "metadata": {},
   "source": [
    "### II.III Miscellaneous Processing"
   ]
  },
  {
   "cell_type": "markdown",
   "metadata": {},
   "source": [
    "Some miscellanous processing on other song information. \n",
    "\n",
    "Calculating lyric length:"
   ]
  },
  {
   "cell_type": "code",
   "execution_count": 28,
   "metadata": {},
   "outputs": [],
   "source": [
    "#calculating lyric length\n",
    "lyrics_length = [len(lyric) for lyric in lyrics_mapped] #approximation as some choruses may be grouped\n",
    "lyrics_distinct = [len(set(lyric)) for lyric in lyrics_mapped] #approximation due to unknowns\n",
    "\n",
    "#adding to dataframe\n",
    "data_raw_en['Lyrics_Cleaned'] = lyrics_mapped\n",
    "data_raw_en['Lyric_Length'] = lyrics_length\n",
    "data_raw_en['Distinct_Words'] = lyrics_distinct\n"
   ]
  },
  {
   "cell_type": "markdown",
   "metadata": {},
   "source": [
    "Identifying and removing outliers (songs with less than 50 lyrics or less than 25 distinct words). There are no impossibly long lyrics."
   ]
  },
  {
   "cell_type": "code",
   "execution_count": 29,
   "metadata": {},
   "outputs": [
    {
     "name": "stdout",
     "output_type": "stream",
     "text": [
      "130 songs will be dropped\n"
     ]
    }
   ],
   "source": [
    "# #checking for outliers\n",
    "# print(f'Maximum Length for song is: {data_raw_en.Lyric_Length.max()}')\n",
    "# print(f'Minimum Length for song is: {data_raw_en.Lyric_Length.min()}\\n')\n",
    "\n",
    "#dropping outliers\n",
    "lyrics_outliers = data_raw_en[data_raw_en[\"Lyric_Length\"] < 50].Title.count()\n",
    "distinct_outliers = data_raw_en[data_raw_en[\"Distinct_Words\"] < 25].Title.count()\n",
    "print(f'{lyrics_outliers +distinct_outliers} songs will be dropped')\n",
    "\n",
    "data_raw_en = data_raw_en.drop(data_raw_en[(data_raw_en.Lyric_Length < 50)|(data_raw_en.Distinct_Words < 25)].index)\n"
   ]
  },
  {
   "cell_type": "markdown",
   "metadata": {},
   "source": [
    "Calculating sentiment score for lyrics:"
   ]
  },
  {
   "cell_type": "code",
   "execution_count": 30,
   "metadata": {},
   "outputs": [],
   "source": [
    "#defining function\n",
    "def sentiment_analysis(token_list):\n",
    "    '''\n",
    "    DESCRIPTION\n",
    "    Calculates VADER sentiment score.\n",
    "    PARAMETERS\n",
    "    token_list is a list of tokens\n",
    "    REQUIRES:\n",
    "    SentimentIntensityAnalyzer() object from 'vaderSentiment' library, stored as 'sent_analyser'\n",
    "    OUTPUT\n",
    "    Compound sentiment score\n",
    "    '''\n",
    "    text = ' '.join(token for token in token_list) #sentiment analyser requires a string of tokens\n",
    "    score = sent_analyser.polarity_scores(text)['compound'] #obtaining compound score from results dictionary\n",
    "    return score\n",
    "\n",
    "#applying\n",
    "sent_analyser = SentimentIntensityAnalyzer()\n",
    "data_raw_en['Sentiment_Score'] = data_raw_en['Lyrics_Cleaned'].apply(sentiment_analysis) "
   ]
  },
  {
   "cell_type": "code",
   "execution_count": 31,
   "metadata": {},
   "outputs": [],
   "source": [
    "#saving to .csv\n",
    "data_raw_en.to_csv('data_cleaned.csv', index=False) #index = False stops pandas creating index column when outputting to csv"
   ]
  },
  {
   "cell_type": "markdown",
   "metadata": {},
   "source": [
    "## III. Methodology and Implementation"
   ]
  },
  {
   "cell_type": "markdown",
   "metadata": {},
   "source": [
    "The section describes and implements the algorithm to be used to classify the unlabelled song lyrics into different topics. Topic modelling is a statistical unsupervised method used in natural language processing for the classification of documents. It is the process of discovering hidden semantic structures in a text body that go beyond simple word sequences. \n",
    "\n",
    "Intuitively, one would expect particular words to appear more or less frequently given a document subject. A topic model captures this intuition in a mathematical framework, which allows examining a set of documents and discovering, based on the statistics of the words in each, what the topics might be and what each document's balance of topics is. The \"topics\" produced by topic modelling techniques are clusters of similar words.\n",
    "\n",
    "There are many different topic modelling algorithms, though for the purposes of this project I will be using the Latent Dirichlet Allocation (LDA) algorithm from sklearn. LDA is a topic modelling algorithm that aims to find topics ‘latent’ in the text, assuming that the distribution of topics in a document and the distribution of words in topics are both Dirichlet distributions. LDA assumes that documents are composed of a bag of words that help determine the topics, and maps documents to a list of topics by assigning each word in the document to different topics. Thus, the order of the words and the grammatical role of the words are not considered in this model. In an LDA, each document is simply a mix of topics, and each topic is a mix of words. LDA models are thus similar to Principal Component Analysis in that it decomposes the corpus-document-word matrix into two smaller parts - the document-topic matrix and the topic-word matrix. \n",
    "\n",
    "The LDA begins with random assignment of <i>n</i> topics to each word and iteratively improves the assignment of topics to words. The number of expected topics in the corpus <i>n</i> is arbitrary.\n",
    "\n"
   ]
  },
  {
   "cell_type": "markdown",
   "metadata": {},
   "source": [
    "### III.I Setting Up"
   ]
  },
  {
   "cell_type": "code",
   "execution_count": 32,
   "metadata": {},
   "outputs": [],
   "source": [
    "#import cleaned data\n",
    "data_lda = pd.read_csv('data_cleaned.csv', encoding='UTF8')"
   ]
  },
  {
   "cell_type": "markdown",
   "metadata": {},
   "source": [
    "An LDA takes as an input a bag of words matrix, hence only raw word counts are required. A bag of words matrix can be easily created using sklearn's CountVectorizer. \n",
    "\n",
    "The stop_words parameter is used to remove common stop words in the English language - here, I make use of wordnet's stopwords list with a few additions to account for the 'UNK' tag (hence eliminating all unknown words from the dataset), and other common words such as 'chorus'. The features used are those that have a maximum document frequency of 80% of all documents, and a minimum frequency of 1% of all documents.\n",
    "\n",
    "After setting up the CountVectorizer as vectorizer, the cleaned lyrics data is passed in to create a bag of words matrix bow_matrix.\n"
   ]
  },
  {
   "cell_type": "code",
   "execution_count": 33,
   "metadata": {},
   "outputs": [
    {
     "name": "stderr",
     "output_type": "stream",
     "text": [
      "C:\\ProgramData\\Anaconda3\\lib\\site-packages\\sklearn\\feature_extraction\\text.py:383: UserWarning: Your stop_words may be inconsistent with your preprocessing. Tokenizing the stop words generated tokens ['unk'] not in stop_words.\n",
      "  warnings.warn('Your stop_words may be inconsistent with '\n"
     ]
    },
    {
     "name": "stdout",
     "output_type": "stream",
     "text": [
      "Number of features to be inputted to model: 1886\n"
     ]
    }
   ],
   "source": [
    "#extracting lyrics data from df and converting to list (since pandas reads the list as a string)\n",
    "lyrics_final = data_lda['Lyrics_Cleaned']\n",
    "lyrics_final = [ast.literal_eval(lst) for lst in lyrics_final] #converting to list\n",
    "#joining cleaned tokens into strings (this is what the sklearn's CountVectorizer requires as input)\n",
    "lyrics_lda = [' '.join(songs) for songs in lyrics_final]\n",
    "\n",
    "#compliling stopwords\n",
    "stops = set(stopwords.words('english'))\n",
    "stops.update(['UNK','chorus']) \n",
    "\n",
    "#setting up bag of words matrix\n",
    "vectorizer = CountVectorizer(max_df=0.80, min_df=0.01, analyzer='word', stop_words=stops)  \n",
    "bow_matrix = vectorizer.fit_transform(lyrics_lda)\n",
    "\n",
    "features = vectorizer.get_feature_names()\n",
    "print(f'Number of features to be inputted to model: {len(features)}')"
   ]
  },
  {
   "cell_type": "markdown",
   "metadata": {},
   "source": [
    "### III.II Implementing"
   ]
  },
  {
   "cell_type": "markdown",
   "metadata": {},
   "source": [
    "The LDA algorithm is dependent on a number of hyperparameters. These include the number of topics (n_components), the learning decay (learning_decay), the learning offset, and the maximum number of iterations (max_iter). Apart from these, there are also the hyperparameters used in defining the bag of words matrix, including the number of features to use (determined by min_df and max_df). \n",
    "\n",
    "The following hyperparameters were chosen judgementally, with the remainder being tested using cross validation grid search to determine their optimal values:\n",
    "\n",
    "<ul>\n",
    "    <li>max_iter determines the maximum number of passes over the training data. I use sklearn's default of 10 for the final model, though for computational puposes I reduce this to 5 during the grid search.</li>\n",
    "    <li>max_df and min_df determine the number of features to be included in the bag of words matrix and to be used by the algorithm. As seen above, I decided that a reasonable range would be to include features that appear in over 1.0% of songs and exclude those appearing in over 80% of songs. This provides around 1,800 features.</li>\n",
    "    <li>The random state ensures that results are reproducable every time the code is run.</li>\n",
    "</ul>\n",
    "\n",
    "For the remainder (number of topics, learning_decay, and learning offset), I used sklearn's GridSearchCV to find their optimal values. For the number of topics, I decided that a range of between 4-12 topics was reasonable to capture the topic diversity of the songs, while at the same time maintaining a number of topics low enough to ensure interpretability. The learning decay controls the learning rate, and according to sklearn documentation should be set between 0.5 and 1.0 to guarantee asymptotic convergence; I decide to test values of 0.5, 0.7, and 0.9. The learning offset is a parameter that downweights early iterations in online learning, and should be greater than 1. I test values of 10, 30, and 50.\n",
    "\n",
    "The below markdown code performs the grid search cross validation. This search is done using the score function provide by the estimator, which in the case of the LDA is the log likelihood."
   ]
  },
  {
   "cell_type": "markdown",
   "metadata": {},
   "source": [
    "```\n",
    "#hyperparameters to test\n",
    "test_params = {'n_components': [4, 5, 6, 7, 8, 9, 10, 11, 12], 'learning_decay': [.5, .7, .9], 'learning_offset': [10, 30, 50]}\n",
    "\n",
    "#initialise model and grid search, and fit\n",
    "lda = LatentDirichletAllocation(max_iter=5, learning_method='online',random_state=0)\n",
    "lda_test = GridSearchCV(lda, param_grid=test_params)\n",
    "lda_test.fit(bow_matrix)\n",
    "\n",
    "#best model from grid search\n",
    "best_lda = lda_test.best_estimator_\n",
    "print(\"Best Model's Params: \", lda_test.best_params_)\n",
    "```"
   ]
  },
  {
   "cell_type": "markdown",
   "metadata": {},
   "source": [
    "The optimal hyperparamters were found to be 4 topics, with a learning decay of 0.7 and a learning offset of 10."
   ]
  },
  {
   "cell_type": "markdown",
   "metadata": {},
   "source": [
    "I now run the LDA model using the optimal paramters, but using 10 maximum iterations."
   ]
  },
  {
   "cell_type": "code",
   "execution_count": 34,
   "metadata": {},
   "outputs": [],
   "source": [
    "#running algorithm\n",
    "lda = LatentDirichletAllocation(n_components=4, max_iter=10, learning_method='online', learning_offset=10, learning_decay=0.7, random_state=0).fit(bow_matrix)"
   ]
  },
  {
   "cell_type": "markdown",
   "metadata": {},
   "source": [
    "The model can be evaluated using the perplexity score; i.e how ‘surprised’ the algorithm is to see a term within a given topic. A low value indicates a better model."
   ]
  },
  {
   "cell_type": "code",
   "execution_count": 35,
   "metadata": {},
   "outputs": [
    {
     "name": "stdout",
     "output_type": "stream",
     "text": [
      "Perplexity:  656.6712002924171\n"
     ]
    }
   ],
   "source": [
    "#evaluating\n",
    "print(\"Perplexity: \", lda.perplexity(bow_matrix))"
   ]
  },
  {
   "cell_type": "markdown",
   "metadata": {},
   "source": [
    "## IV. Results"
   ]
  },
  {
   "cell_type": "markdown",
   "metadata": {},
   "source": [
    "### IV.I Visualising Results"
   ]
  },
  {
   "cell_type": "markdown",
   "metadata": {},
   "source": [
    "I use pyLDAvis to visualise the results of the LDA, which provides interactive visualisation of the output. pyLDAvis was developed by Sievert & Shirley (2014).\n",
    "\n",
    "This visual is based on the word relevance measure. This denotes the degree to which a term appears in a particular topic to the exclusion of others. Relevance is a weighted average of two terms, with λ controlling the weighting. When λ = 1, the relevance is defined entirely by the probability of a word within the topic (i.e. most common words per topic). When λ = 0, relevance is based entirely on a word's lift, which measures the probability of term given a topic out of its total probability in the corpus (i.e. words that are most specific to the topic). According to Sievert & Shirley, the optimal value for λ to aid topic interpretation is 0.6.\n",
    "\n",
    "On the below visual, the LHS displays each topic as a bubble in a 2D-space using multi-dimensional scaling. The bubble size is indicative of topic frequency within the corpus. Distance between the topics is an approximation of semantic relationship between the topics, with topics sharing common words closer in distance. The RHS shows the frequency distribution of the words in the documents (blue) and the frequency of each word (red) for the topic under view. Hovering over each word gives an idea of which topics the word appears in. One can scroll through topics using the menu bar on the top left. In the top right menu, one can adjust the λ weighting, which determines whether the show the most common words in a topic (λ = 1) or the most specific words (λ = 0)."
   ]
  },
  {
   "cell_type": "code",
   "execution_count": 36,
   "metadata": {},
   "outputs": [
    {
     "data": {
      "text/html": [
       "\n",
       "<link rel=\"stylesheet\" type=\"text/css\" href=\"https://cdn.jsdelivr.net/gh/bmabey/pyLDAvis@3.3.1/pyLDAvis/js/ldavis.v1.0.0.css\">\n",
       "\n",
       "\n",
       "<div id=\"ldavis_el2354423265427332004543687420\"></div>\n",
       "<script type=\"text/javascript\">\n",
       "\n",
       "var ldavis_el2354423265427332004543687420_data = {\"mdsDat\": {\"x\": [269.5624084472656, 1.782994270324707, 220.81143188476562, 50.533992767333984], \"y\": [-124.80339813232422, -295.0796813964844, -343.8321228027344, -76.05093383789062], \"topics\": [1, 2, 3, 4], \"cluster\": [1, 1, 1, 1], \"Freq\": [24.78813129989879, 28.569787463063808, 27.78300227806992, 18.85907895896749]}, \"tinfo\": {\"Term\": [\"nigger\", \"love\", \"fuck\", \"bitch\", \"baby\", \"shit\", \"girl\", \"want\", \"let\", \"rock\", \"feel\", \"need\", \"would\", \"hoe\", \"party\", \"yeah\", \"hey\", \"dance\", \"wit\", \"money\", \"shake\", \"life\", \"roll\", \"never\", \"hot\", \"move\", \"motherfucker\", \"time\", \"hit\", \"tell\", \"darling\", \"loving\", \"relationship\", \"lonely\", \"love\", \"ooh\", \"anymore\", \"beautiful\", \"lately\", \"lover\", \"fantasy\", \"whoa\", \"baby\", \"goodbye\", \"someone\", \"promise\", \"joy\", \"alone\", \"sorry\", \"share\", \"tonight\", \"satisfy\", \"kiss\", \"heart\", \"belong\", \"girlfriend\", \"anything\", \"bedroom\", \"else\", \"cheat\", \"special\", \"feeling\", \"girl\", \"need\", \"feel\", \"cry\", \"hurt\", \"want\", \"night\", \"would\", \"everything\", \"friend\", \"away\", \"really\", \"tell\", \"thing\", \"could\", \"way\", \"think\", \"right\", \"good\", \"say\", \"yeah\", \"let\", \"time\", \"give\", \"never\", \"go\", \"make\", \"see\", \"take\", \"one\", \"come\", \"look\", \"try\", \"life\", \"keep\", \"freedom\", \"human\", \"destroy\", \"youth\", \"wisdom\", \"glory\", \"sword\", \"knowledge\", \"birth\", \"defeat\", \"fate\", \"reign\", \"criminal\", \"sentence\", \"wise\", \"slave\", \"path\", \"mass\", \"nation\", \"hero\", \"emcee\", \"struggle\", \"holy\", \"art\", \"america\", \"spirit\", \"mental\", \"curse\", \"rebel\", \"remain\", \"power\", \"devil\", \"survive\", \"war\", \"earth\", \"evil\", \"write\", \"mom\", \"battle\", \"people\", \"ghetto\", \"rhyme\", \"pray\", \"brother\", \"god\", \"peace\", \"family\", \"son\", \"kid\", \"live\", \"rap\", \"word\", \"bear\", \"soul\", \"death\", \"life\", \"black\", \"great\", \"child\", \"year\", \"lord\", \"rapper\", \"burn\", \"day\", \"world\", \"one\", \"die\", \"time\", \"use\", \"never\", \"man\", \"run\", \"try\", \"new\", \"make\", \"say\", \"still\", \"come\", \"take\", \"think\", \"would\", \"see\", \"back\", \"could\", \"keep\", \"way\", \"bitch\", \"motherfuck\", \"nigger\", \"dogg\", \"gotti\", \"motherfucker\", \"chronic\", \"pussy\", \"chopper\", \"snoop\", \"westside\", \"hoe\", \"fuck\", \"clique\", \"kush\", \"gangster\", \"glock\", \"dick\", \"snitch\", \"gang\", \"compton\", \"dro\", \"thug\", \"tuck\", \"fucking\", \"rack\", \"hood\", \"yay\", \"tha\", \"gram\", \"shit\", \"rich\", \"wrist\", \"money\", \"pimp\", \"bang\", \"hater\", \"brick\", \"buck\", \"smoke\", \"cash\", \"homie\", \"rid\", \"hundred\", \"gon\", \"dog\", \"wit\", \"south\", \"hit\", \"game\", \"block\", \"real\", \"bust\", \"big\", \"yeah\", \"pop\", \"talk\", \"put\", \"boy\", \"back\", \"see\", \"want\", \"make\", \"still\", \"come\", \"try\", \"tell\", \"let\", \"look\", \"keep\", \"take\", \"say\", \"boogie\", \"funky\", \"groove\", \"booty\", \"boom\", \"party\", \"thong\", \"freaky\", \"bass\", \"funk\", \"freak\", \"shake\", \"dance\", \"bubble\", \"nasty\", \"butt\", \"hah\", \"amon\", \"beep\", \"vip\", \"butter\", \"rick\", \"bounce\", \"flavor\", \"wine\", \"jam\", \"gentleman\", \"speaker\", \"cruise\", \"bop\", \"rock\", \"jump\", \"swing\", \"chick\", \"floor\", \"shawty\", \"hey\", \"bump\", \"hot\", \"move\", \"lady\", \"roll\", \"beat\", \"step\", \"let\", \"drop\", \"body\", \"back\", \"low\", \"come\", \"hand\", \"girl\", \"stop\", \"show\", \"wit\", \"man\", \"want\", \"see\", \"make\", \"hit\", \"put\", \"say\", \"yeah\", \"take\", \"keep\", \"go\", \"look\", \"right\"], \"Freq\": [37267.0, 27410.0, 18339.0, 14926.0, 20895.0, 17515.0, 17494.0, 36173.0, 22507.0, 7293.0, 13164.0, 12607.0, 11068.0, 4922.0, 3700.0, 19465.0, 5711.0, 3687.0, 6780.0, 9521.0, 3540.0, 10756.0, 6718.0, 14278.0, 4901.0, 6590.0, 3427.0, 17487.0, 8688.0, 15802.0, 270.28824611867867, 247.45155708640604, 214.01774817401372, 651.7829655059268, 24972.178645545362, 2981.569546709215, 300.02515910600516, 657.6157466564886, 305.4903405718856, 882.6440894463302, 295.93272913223797, 1149.3443164841487, 17899.87633427147, 336.37549366989725, 1154.3598155184038, 946.3348543437809, 249.96705170399235, 1902.681409850571, 715.5023591041206, 584.2584563051167, 2788.0452659413268, 176.91564902531488, 1679.547908604502, 3148.6383480775153, 288.63717839715196, 488.4143429930023, 1133.473315303696, 160.3513395823371, 969.4618743508427, 291.5792494194795, 633.2364335933488, 950.8849136275022, 11936.28936290083, 8647.606485732716, 8993.089846257793, 1807.7035046566991, 1560.296325748103, 21562.674535279482, 4582.967998573618, 6676.535738515631, 2514.65687310268, 2705.872296936655, 2646.19485337042, 3433.464532970824, 8551.342228794942, 6055.203793058944, 5333.822817468043, 6912.788611157419, 7066.012745904959, 6767.321247727205, 6008.827745397087, 10793.669204913911, 8849.493340172532, 9567.780619375355, 7821.759468394179, 6575.28709126022, 6657.846776103134, 5881.519734423672, 9876.905017206369, 8452.731488317306, 6991.9715815064155, 7066.3712871853395, 7008.007689554346, 4834.224258936099, 4008.1700236148145, 3753.487094538638, 3795.6488821223766, 378.3398317980871, 261.81189567117667, 238.51909781837946, 223.84157711270416, 196.41101383125255, 184.26981337982951, 162.34561223881178, 340.5724537039243, 210.91001686163736, 152.02058633132256, 225.14443151180183, 169.55548795657356, 319.96748351787, 160.50244336178392, 340.53861173414924, 279.5461557033405, 249.41724987874957, 300.3236544022697, 423.1819526404173, 187.25145988547166, 324.39687200399777, 479.84196228175927, 218.04834448901426, 259.6560493797052, 324.2913551114739, 288.6166934687794, 274.17396908994124, 293.84545967450816, 234.21210894203563, 450.988352087787, 1020.5756609396268, 616.1897506298346, 522.2129981035605, 1414.9664338488935, 623.491603749515, 393.4349907456378, 1615.467146826545, 770.8475783949002, 562.5883086743397, 4115.0361622579985, 1830.1737324319395, 2984.4775621150657, 1267.5032732605866, 2617.969004252403, 2940.6634239474524, 1182.5492283305723, 1043.1243700709663, 1545.6655912847195, 2771.8829908673906, 5155.393917154713, 3360.1650122183, 2644.4481593851083, 1063.693896149295, 1653.0009559695834, 1074.3292427199601, 6381.828427293982, 3213.0362468954845, 997.9488899866687, 1070.817849745839, 1872.900280082221, 1105.5725197490399, 1188.2343601824455, 1432.8088533645496, 4665.268787283017, 3305.2330916228866, 7653.900005109121, 2487.2592080869845, 6953.786867185422, 2532.409075495154, 5898.178068105664, 6081.94801211366, 3891.851972743711, 5016.517634434775, 2968.8023615877614, 7193.040876743986, 6718.670594236813, 3458.147712568975, 6369.59549060322, 5082.779096263198, 4340.026038764104, 3749.3995082054607, 5090.110071054912, 4326.096229076645, 3282.913275544395, 3422.9810302494557, 3013.557025551258, 14923.641548272193, 2338.3601966824867, 37176.027434410666, 588.7209220829416, 175.76807041646742, 3384.866412371637, 246.91208143266456, 1951.2852225799315, 280.6998943830196, 406.1904866005772, 228.96454482956472, 4778.72848014661, 17663.16990062608, 385.47593259902527, 206.78509989873388, 2398.1256534797944, 770.6913979509685, 2390.6829156020185, 388.99470659637836, 1148.2812625790482, 249.16411380975856, 275.607651922291, 3061.7279428898223, 302.9291818585604, 699.017937433724, 358.226412508611, 2829.3308245066346, 193.67567495581523, 1235.479641722903, 235.79370866408766, 15308.136937185982, 2478.9744190325537, 728.3505914778798, 7468.932200504109, 1886.2877415979792, 2074.9162351273985, 1104.1306357932076, 820.1966972238025, 1238.3860053979333, 2832.7684654919003, 1809.4947862169238, 1638.7305343735316, 1580.7137406772445, 1312.010290350242, 3744.2211556108086, 1823.6605211784874, 4041.558120154828, 1243.7059746151967, 4659.176092363731, 3654.0090694489563, 2053.039055547684, 4111.808733308524, 2021.6513829070934, 3680.676569683714, 6479.020809483863, 2680.4062212734602, 3668.522595861192, 4102.451231960452, 3581.04443717927, 5429.001238285549, 5984.966821414381, 6755.4054998228485, 4719.196487914047, 3040.3785752011945, 4179.042372388024, 3386.120265784574, 3515.4779920913065, 3659.3517437263904, 3271.026290690064, 3262.1730552577806, 3208.4517570779217, 3155.294506336251, 459.0643709274004, 985.0901153951695, 693.3787307455771, 961.5867024515995, 1123.2999688680627, 3533.9655926454884, 268.121234550452, 772.0858259636378, 708.7406837913277, 896.0934105376831, 1906.043081799775, 3278.6736124861545, 3408.8109410750844, 654.8276756610715, 654.825673829005, 674.3895517261901, 332.0485587714994, 1092.0762726146347, 177.40212081569587, 262.1661519269359, 266.0547146285472, 170.9400317588251, 1366.7410562944513, 425.4438349812828, 462.14785690383974, 960.1008763314115, 246.58462779716845, 267.07413246896505, 366.02103713702854, 207.48500803617125, 5612.814978239642, 2097.619305103383, 802.1844003215052, 1573.1965340589395, 1624.1684144336818, 1955.2751707640027, 4016.1903512762156, 881.8387701473623, 3333.809500897482, 4104.125835258535, 1960.5949978517533, 3652.294228331156, 2791.730796343048, 2224.683443404404, 7889.235407857584, 2513.5333388702707, 2435.851784077442, 6688.2821745699, 1705.941729177046, 7713.421381182233, 2714.2713763332385, 5474.871711152566, 3045.2454394413276, 2809.321209073243, 2720.5478657320405, 4195.7173882816005, 6170.313725730509, 4964.675726864575, 5124.19638902827, 2931.3275220609116, 3085.6266609120466, 4269.489836314621, 3617.769953866367, 3550.733785159183, 3083.7987539797623, 2932.8812621408892, 2629.6024309788986, 2624.9742213958325], \"Total\": [37267.0, 27410.0, 18339.0, 14926.0, 20895.0, 17515.0, 17494.0, 36173.0, 22507.0, 7293.0, 13164.0, 12607.0, 11068.0, 4922.0, 3700.0, 19465.0, 5711.0, 3687.0, 6780.0, 9521.0, 3540.0, 10756.0, 6718.0, 14278.0, 4901.0, 6590.0, 3427.0, 17487.0, 8688.0, 15802.0, 271.0533281995259, 248.22667922206065, 214.7974167061767, 690.2390820830267, 27410.83860547332, 3326.3146557891005, 335.7181260011704, 743.9981381423892, 348.2040472716232, 1013.2975111663376, 343.96739076754164, 1340.0142051281866, 20895.115572038736, 395.4514196226034, 1360.9750234292856, 1125.11033451517, 307.3861231822919, 2342.4222112069997, 891.2678755526106, 736.6810418458451, 3557.7436633045027, 227.78764635782326, 2182.3691568190875, 4133.732169888109, 379.938042216448, 645.2774851116701, 1504.5374553589918, 213.40343572586616, 1295.4246195227186, 391.27182149189537, 854.046622893703, 1293.2023247808636, 17494.9351306134, 12607.182062627868, 13164.78552208611, 2525.4910155862312, 2177.3798340409367, 36173.384425462755, 7081.642796904904, 11068.642857763354, 3770.9069604116876, 4101.8285243812425, 4062.800557257778, 5482.820216747903, 15802.34374168976, 11202.166220284995, 9777.460019232221, 13438.100402713693, 13921.988045196142, 13316.050660978024, 11852.452021374367, 24937.124141801592, 19465.75911536864, 22507.273844797437, 17487.402367391038, 13903.878814505788, 14278.776123208116, 12431.760233470875, 26913.338770892668, 24492.484107651173, 18833.93622000672, 19690.07902489019, 25270.066933727823, 13197.748963928289, 13412.640174386484, 10756.514021876243, 13564.601721609375, 379.19292325674604, 262.62625588160694, 239.3015200906472, 224.62251221618325, 197.1854756832515, 185.07294335443564, 163.26132213875135, 342.77361159139207, 212.29087460407064, 153.40845019209038, 230.10252783583636, 173.28970711882022, 327.56504856276274, 164.54800105805057, 350.8288486698959, 289.651947176145, 258.78993234781143, 311.8683838114819, 442.19148947220515, 195.75658304739412, 339.40023956000147, 502.2095080426783, 228.93814915691104, 274.2185381078669, 342.5221316830877, 308.272669182898, 292.8951955154999, 314.0256521764551, 250.65334166189487, 483.49569840264223, 1096.9345583692912, 663.4169549342057, 562.2384314131407, 1566.786040059909, 679.8287250095403, 423.0275081733714, 1851.820026943622, 861.2744324507973, 619.8811181487843, 5160.694291568841, 2191.5622112248443, 3773.123258680405, 1487.915656177747, 3306.019904534479, 3776.2539433060483, 1400.0487049904798, 1231.0641817889427, 1904.4813081174286, 3659.441416853191, 7592.655400266275, 4747.77532742906, 3621.6137584587536, 1293.5717383423494, 2138.525284468252, 1333.6859204084349, 10756.514021876243, 4923.315255568805, 1234.6363936272132, 1355.2778542511319, 2680.445221351633, 1410.206754882694, 1552.8927390454642, 1983.443201938259, 9332.306981958907, 6072.763806760049, 19690.07902489019, 4276.172468747573, 17487.402367391038, 4397.057923092556, 14278.776123208116, 15742.063453774446, 8591.32978047177, 13412.640174386484, 6302.689572488971, 26913.338770892668, 24937.124141801592, 8485.943708433477, 25270.066933727823, 18833.93622000672, 13921.988045196142, 11068.642857763354, 24492.484107651173, 19602.822833559512, 9777.460019232221, 13564.601721609375, 13438.100402713693, 14926.767155319805, 2342.7147873894182, 37267.46114556364, 591.9137014569586, 177.6103675928849, 3427.517236189756, 250.26191812858738, 1978.8053123964291, 285.419368943509, 416.66695440456704, 235.41781627003382, 4922.553005357824, 18339.949082325787, 401.17176662535985, 215.88144231014257, 2504.459938337136, 815.5957547445502, 2554.8504890492645, 416.2912169114808, 1230.4220836512843, 269.22461920571396, 298.54647443458725, 3316.7048143056604, 329.29646570933704, 763.228966356132, 398.84478072288493, 3179.095201820388, 217.86734165036876, 1391.049416078138, 265.5447704364394, 17515.342117420063, 2812.045233306885, 822.5153756972907, 9521.686988685113, 2247.673321323412, 2516.7953049262496, 1293.8958297272177, 941.2239570773319, 1508.3784306710434, 3785.578937040246, 2318.1818177660266, 2093.7465392271843, 2042.2720530716044, 1652.3512811228604, 5718.048066807396, 2439.649393600178, 6780.099917636258, 1554.9188552961562, 8688.268020940883, 6548.622595606553, 3132.232906912576, 8703.346932617485, 3100.1495766614753, 7544.462163300943, 19465.75911536864, 4900.881471275783, 8308.514713157423, 10433.373142386712, 8472.595712875514, 19602.822833559512, 24492.484107651173, 36173.384425462755, 26913.338770892668, 8485.943708433477, 25270.066933727823, 13412.640174386484, 15802.34374168976, 22507.273844797437, 13197.748963928289, 13564.601721609375, 18833.93622000672, 24937.124141801592, 460.02708385506475, 990.31507579834, 710.2033734450897, 999.8674374223853, 1170.4198553136434, 3700.4170621414146, 283.58587469114923, 817.5638178147778, 752.294218938023, 952.3014285769303, 2051.9327216737693, 3540.3479609006467, 3687.100020599141, 716.3038072914985, 736.2235855404946, 760.7102544051802, 380.8426950706198, 1296.7351193462548, 215.52476254812564, 320.8576264978699, 328.29546236844874, 212.17673937507482, 1709.480027364696, 534.6055903853266, 582.0304960812907, 1217.0985986354997, 313.16144873717053, 339.9031266173998, 466.4040246372209, 266.054057759168, 7293.742319504886, 2731.8341118612366, 1034.715741459575, 2064.9866893657345, 2151.1573624425864, 2648.300864058851, 5711.922518237598, 1162.0600540719943, 4901.552348382133, 6590.0307618016395, 3002.8392631065467, 6718.210885999828, 4954.079239004048, 3750.0284395756617, 22507.273844797437, 4802.153928050053, 4604.854299483979, 19602.822833559512, 2790.1428801087063, 25270.066933727823, 5843.11751750409, 17494.9351306134, 7587.31793210541, 7148.32138691274, 6780.099917636258, 15742.063453774446, 36173.384425462755, 24492.484107651173, 26913.338770892668, 8688.268020940883, 10433.373142386712, 24937.124141801592, 19465.75911536864, 18833.93622000672, 13564.601721609375, 12431.760233470875, 13197.748963928289, 13316.050660978024], \"Category\": [\"Default\", \"Default\", \"Default\", \"Default\", \"Default\", \"Default\", \"Default\", \"Default\", \"Default\", \"Default\", \"Default\", \"Default\", \"Default\", \"Default\", \"Default\", \"Default\", \"Default\", \"Default\", \"Default\", \"Default\", \"Default\", \"Default\", \"Default\", \"Default\", \"Default\", \"Default\", \"Default\", \"Default\", \"Default\", \"Default\", \"Topic1\", \"Topic1\", \"Topic1\", \"Topic1\", \"Topic1\", \"Topic1\", \"Topic1\", \"Topic1\", \"Topic1\", \"Topic1\", \"Topic1\", \"Topic1\", \"Topic1\", \"Topic1\", \"Topic1\", \"Topic1\", \"Topic1\", \"Topic1\", \"Topic1\", \"Topic1\", \"Topic1\", \"Topic1\", \"Topic1\", \"Topic1\", \"Topic1\", \"Topic1\", \"Topic1\", \"Topic1\", \"Topic1\", \"Topic1\", \"Topic1\", \"Topic1\", \"Topic1\", \"Topic1\", \"Topic1\", \"Topic1\", \"Topic1\", \"Topic1\", \"Topic1\", \"Topic1\", \"Topic1\", \"Topic1\", \"Topic1\", \"Topic1\", \"Topic1\", \"Topic1\", \"Topic1\", \"Topic1\", \"Topic1\", \"Topic1\", \"Topic1\", \"Topic1\", \"Topic1\", \"Topic1\", \"Topic1\", \"Topic1\", \"Topic1\", \"Topic1\", \"Topic1\", \"Topic1\", \"Topic1\", \"Topic1\", \"Topic1\", \"Topic1\", \"Topic1\", \"Topic1\", \"Topic1\", \"Topic2\", \"Topic2\", \"Topic2\", \"Topic2\", \"Topic2\", \"Topic2\", \"Topic2\", \"Topic2\", \"Topic2\", \"Topic2\", \"Topic2\", \"Topic2\", \"Topic2\", \"Topic2\", \"Topic2\", \"Topic2\", \"Topic2\", \"Topic2\", \"Topic2\", \"Topic2\", \"Topic2\", \"Topic2\", \"Topic2\", \"Topic2\", \"Topic2\", \"Topic2\", \"Topic2\", \"Topic2\", \"Topic2\", \"Topic2\", \"Topic2\", \"Topic2\", \"Topic2\", \"Topic2\", \"Topic2\", \"Topic2\", \"Topic2\", \"Topic2\", \"Topic2\", \"Topic2\", \"Topic2\", \"Topic2\", \"Topic2\", \"Topic2\", \"Topic2\", \"Topic2\", \"Topic2\", \"Topic2\", \"Topic2\", \"Topic2\", \"Topic2\", \"Topic2\", \"Topic2\", \"Topic2\", \"Topic2\", \"Topic2\", \"Topic2\", \"Topic2\", \"Topic2\", \"Topic2\", \"Topic2\", \"Topic2\", \"Topic2\", \"Topic2\", \"Topic2\", \"Topic2\", \"Topic2\", \"Topic2\", \"Topic2\", \"Topic2\", \"Topic2\", \"Topic2\", \"Topic2\", \"Topic2\", \"Topic2\", \"Topic2\", \"Topic2\", \"Topic2\", \"Topic2\", \"Topic2\", \"Topic2\", \"Topic2\", \"Topic2\", \"Topic2\", \"Topic2\", \"Topic2\", \"Topic3\", \"Topic3\", \"Topic3\", \"Topic3\", \"Topic3\", \"Topic3\", \"Topic3\", \"Topic3\", \"Topic3\", \"Topic3\", \"Topic3\", \"Topic3\", \"Topic3\", \"Topic3\", \"Topic3\", \"Topic3\", \"Topic3\", \"Topic3\", \"Topic3\", \"Topic3\", \"Topic3\", \"Topic3\", \"Topic3\", \"Topic3\", \"Topic3\", \"Topic3\", \"Topic3\", \"Topic3\", \"Topic3\", \"Topic3\", \"Topic3\", \"Topic3\", \"Topic3\", \"Topic3\", \"Topic3\", \"Topic3\", \"Topic3\", \"Topic3\", \"Topic3\", \"Topic3\", \"Topic3\", \"Topic3\", \"Topic3\", \"Topic3\", \"Topic3\", \"Topic3\", \"Topic3\", \"Topic3\", \"Topic3\", \"Topic3\", \"Topic3\", \"Topic3\", \"Topic3\", \"Topic3\", \"Topic3\", \"Topic3\", \"Topic3\", \"Topic3\", \"Topic3\", \"Topic3\", \"Topic3\", \"Topic3\", \"Topic3\", \"Topic3\", \"Topic3\", \"Topic3\", \"Topic3\", \"Topic3\", \"Topic3\", \"Topic3\", \"Topic3\", \"Topic3\", \"Topic4\", \"Topic4\", \"Topic4\", \"Topic4\", \"Topic4\", \"Topic4\", \"Topic4\", \"Topic4\", \"Topic4\", \"Topic4\", \"Topic4\", \"Topic4\", \"Topic4\", \"Topic4\", \"Topic4\", \"Topic4\", \"Topic4\", \"Topic4\", \"Topic4\", \"Topic4\", \"Topic4\", \"Topic4\", \"Topic4\", \"Topic4\", \"Topic4\", \"Topic4\", \"Topic4\", \"Topic4\", \"Topic4\", \"Topic4\", \"Topic4\", \"Topic4\", \"Topic4\", \"Topic4\", \"Topic4\", \"Topic4\", \"Topic4\", \"Topic4\", \"Topic4\", \"Topic4\", \"Topic4\", \"Topic4\", \"Topic4\", \"Topic4\", \"Topic4\", \"Topic4\", \"Topic4\", \"Topic4\", \"Topic4\", \"Topic4\", \"Topic4\", \"Topic4\", \"Topic4\", \"Topic4\", \"Topic4\", \"Topic4\", \"Topic4\", \"Topic4\", \"Topic4\", \"Topic4\", \"Topic4\", \"Topic4\", \"Topic4\", \"Topic4\", \"Topic4\", \"Topic4\", \"Topic4\", \"Topic4\"], \"logprob\": [30.0, 29.0, 28.0, 27.0, 26.0, 25.0, 24.0, 23.0, 22.0, 21.0, 20.0, 19.0, 18.0, 17.0, 16.0, 15.0, 14.0, 13.0, 12.0, 11.0, 10.0, 9.0, 8.0, 7.0, 6.0, 5.0, 4.0, 3.0, 2.0, 1.0, -7.7238, -7.812, -7.9572, -6.8435, -3.1977, -5.3231, -7.6194, -6.8346, -7.6013, -6.5403, -7.6331, -6.2763, -3.5307, -7.505, -6.272, -6.4707, -7.8019, -5.7722, -6.7503, -6.9529, -5.3902, -8.1476, -5.897, -5.2685, -7.6581, -7.1321, -6.2902, -8.2459, -6.4465, -7.6479, -6.8724, -6.4659, -3.9359, -4.2582, -4.219, -5.8234, -5.9706, -3.3445, -4.8932, -4.5169, -5.4934, -5.4201, -5.4424, -5.1819, -4.2694, -4.6146, -4.7414, -4.4821, -4.4602, -4.5034, -4.6223, -4.0365, -4.2351, -4.1571, -4.3586, -4.5322, -4.5197, -4.6437, -4.1253, -4.281, -4.4707, -4.4602, -4.4685, -4.8398, -5.0272, -5.0928, -5.0816, -7.5295, -7.8976, -7.9908, -8.0543, -8.185, -8.2488, -8.3755, -7.6346, -8.1138, -8.4412, -8.0485, -8.3321, -7.697, -8.3869, -7.6347, -7.8321, -7.9461, -7.7604, -7.4174, -8.2328, -7.6833, -7.2918, -8.0805, -7.9059, -7.6836, -7.8001, -7.8515, -7.7822, -8.009, -7.3538, -6.5371, -7.0417, -7.2072, -6.2104, -7.0299, -7.4903, -6.0779, -6.8178, -7.1327, -5.1428, -5.9531, -5.4641, -6.3204, -5.5951, -5.4789, -6.3898, -6.5153, -6.122, -5.538, -4.9174, -5.3455, -5.585, -6.4957, -6.0549, -6.4858, -4.704, -5.3903, -6.5595, -6.4891, -5.93, -6.4571, -6.385, -6.1979, -5.0173, -5.362, -4.5223, -5.6463, -4.6182, -5.6283, -4.7828, -4.7522, -5.1986, -4.9448, -5.4693, -4.5844, -4.6526, -5.3168, -4.706, -4.9316, -5.0896, -5.2359, -4.9302, -5.0928, -5.3688, -5.327, -5.4544, -3.8266, -5.6801, -2.9139, -7.0594, -8.2682, -5.3102, -7.9283, -5.8611, -7.8, -7.4305, -8.0038, -4.9654, -3.6581, -7.4828, -8.1056, -5.6549, -6.79, -5.658, -7.4738, -6.3913, -7.9192, -7.8183, -5.4106, -7.7238, -6.8876, -7.5562, -5.4895, -8.1711, -6.3181, -7.9744, -3.8012, -5.6217, -6.8465, -4.5188, -5.895, -5.7996, -6.4305, -6.7278, -6.3158, -5.4883, -5.9365, -6.0356, -6.0717, -6.258, -5.2093, -5.9287, -5.1329, -6.3115, -4.9907, -5.2337, -5.8102, -5.1157, -5.8256, -5.2265, -4.661, -5.5436, -5.2298, -5.118, -5.2539, -4.8378, -4.7403, -4.6192, -4.9779, -5.4176, -5.0995, -5.3099, -5.2724, -5.2323, -5.3445, -5.3472, -5.3638, -5.3805, -6.9207, -6.1572, -6.5083, -6.1813, -6.0259, -4.8797, -7.4584, -6.4008, -6.4864, -6.2518, -5.4971, -4.9547, -4.9158, -6.5655, -6.5655, -6.5361, -7.2446, -6.0541, -7.8715, -7.4809, -7.4662, -7.9086, -5.8297, -6.9968, -6.914, -6.1829, -7.5422, -7.4624, -7.1472, -7.7148, -4.4171, -5.4013, -6.3625, -5.689, -5.6571, -5.4716, -4.7518, -6.2679, -4.938, -4.7301, -5.4689, -4.8468, -5.1155, -5.3425, -4.0766, -5.2204, -5.2518, -4.2418, -5.608, -4.0992, -5.1436, -4.442, -5.0286, -5.1092, -5.1413, -4.7081, -4.3224, -4.5398, -4.5082, -5.0667, -5.0154, -4.6906, -4.8563, -4.875, -5.016, -5.0661, -5.1753, -5.1771], \"loglift\": [30.0, 29.0, 28.0, 27.0, 26.0, 25.0, 24.0, 23.0, 22.0, 21.0, 20.0, 19.0, 18.0, 17.0, 16.0, 15.0, 14.0, 13.0, 12.0, 11.0, 10.0, 9.0, 8.0, 7.0, 6.0, 5.0, 4.0, 3.0, 2.0, 1.0, 1.392, 1.3917, 1.3912, 1.3375, 1.3016, 1.2854, 1.2824, 1.2714, 1.2639, 1.2568, 1.2444, 1.2413, 1.2401, 1.233, 1.2301, 1.2218, 1.188, 1.1869, 1.1751, 1.163, 1.151, 1.1421, 1.1329, 1.1226, 1.12, 1.1163, 1.1116, 1.109, 1.105, 1.1007, 1.0957, 1.0873, 1.0125, 1.0178, 1.0137, 1.0604, 1.0616, 0.8774, 0.9596, 0.8893, 0.9896, 0.9788, 0.9661, 0.9268, 0.7807, 0.7796, 0.7888, 0.7301, 0.7166, 0.7179, 0.7155, 0.5574, 0.6065, 0.5394, 0.5902, 0.646, 0.6318, 0.6464, 0.3924, 0.3309, 0.4039, 0.37, 0.1122, 0.3905, 0.1869, 0.342, 0.1212, 1.2506, 1.2497, 1.2495, 1.2493, 1.2489, 1.2485, 1.2472, 1.2464, 1.2463, 1.2437, 1.231, 1.231, 1.2294, 1.2279, 1.2231, 1.2173, 1.2159, 1.2151, 1.2089, 1.2084, 1.2076, 1.2073, 1.2041, 1.1983, 1.1981, 1.1869, 1.1868, 1.1864, 1.185, 1.1832, 1.1807, 1.179, 1.179, 1.1509, 1.1663, 1.1803, 1.1163, 1.1419, 1.1558, 1.0264, 1.0726, 1.0183, 1.0925, 1.0195, 1.0027, 1.084, 1.0872, 1.0441, 0.975, 0.8657, 0.9071, 0.9384, 1.0572, 0.9953, 1.0366, 0.7308, 0.8261, 1.04, 1.0172, 0.8943, 1.0094, 0.9852, 0.9276, 0.5595, 0.6445, 0.3079, 0.7109, 0.3306, 0.7011, 0.3687, 0.3018, 0.461, 0.2694, 0.5, -0.0667, -0.0586, 0.3551, -0.1253, -0.057, 0.0872, 0.1703, -0.3182, -0.2582, 0.1615, -0.1241, -0.2422, 1.2805, 1.2789, 1.2783, 1.2753, 1.2703, 1.2682, 1.2673, 1.2667, 1.2641, 1.2553, 1.253, 1.2511, 1.2431, 1.2408, 1.2377, 1.2374, 1.2241, 1.2143, 1.2129, 1.2117, 1.2033, 1.2008, 1.2008, 1.1973, 1.1929, 1.1733, 1.1642, 1.163, 1.1621, 1.1619, 1.1461, 1.1547, 1.1592, 1.0379, 1.1055, 1.0877, 1.1221, 1.1431, 1.0835, 0.9908, 1.033, 1.0357, 1.0246, 1.0501, 0.8573, 0.9897, 0.7634, 1.0574, 0.6576, 0.6973, 0.8583, 0.5309, 0.8532, 0.563, 0.1807, 0.6773, 0.4633, 0.3473, 0.4196, -0.0032, -0.1284, -0.3972, -0.4602, 0.2543, -0.5188, -0.0958, -0.2222, -0.5358, -0.1142, -0.1443, -0.4891, -0.7865, 1.6661, 1.6629, 1.6442, 1.6291, 1.6271, 1.6222, 1.6121, 1.6109, 1.6085, 1.6073, 1.5944, 1.5914, 1.5897, 1.5784, 1.551, 1.5477, 1.5311, 1.4964, 1.4735, 1.4662, 1.458, 1.4521, 1.4444, 1.4398, 1.4375, 1.431, 1.4292, 1.427, 1.4258, 1.4195, 1.4062, 1.404, 1.4136, 1.3962, 1.3872, 1.3648, 1.316, 1.3922, 1.2827, 1.1946, 1.2419, 1.0587, 1.0946, 1.146, 0.6198, 1.0208, 1.0314, 0.5929, 1.1762, 0.4815, 0.9014, 0.5064, 0.7553, 0.7342, 0.755, 0.3459, -0.1004, 0.0722, 0.0095, 0.5817, 0.4499, -0.0967, -0.0146, -0.0003, 0.1869, 0.2239, 0.055, 0.0443]}, \"token.table\": {\"Topic\": [1, 2, 3, 4, 2, 3, 1, 2, 3, 4, 1, 2, 1, 2, 3, 4, 2, 3, 4, 1, 2, 3, 4, 1, 2, 3, 4, 1, 2, 3, 4, 2, 3, 4, 2, 3, 4, 2, 3, 4, 1, 2, 3, 4, 1, 2, 3, 4, 1, 2, 3, 1, 2, 3, 4, 1, 2, 3, 4, 1, 2, 3, 1, 2, 3, 4, 2, 4, 2, 3, 4, 2, 3, 4, 2, 3, 4, 1, 2, 3, 4, 4, 2, 3, 4, 3, 4, 2, 3, 4, 2, 3, 4, 1, 2, 3, 4, 2, 3, 4, 1, 2, 3, 4, 2, 3, 4, 2, 3, 4, 1, 2, 3, 4, 1, 2, 3, 4, 2, 3, 4, 2, 3, 4, 2, 3, 4, 2, 3, 4, 1, 2, 3, 4, 1, 2, 3, 4, 1, 2, 3, 4, 2, 3, 2, 3, 4, 2, 3, 4, 1, 2, 3, 4, 2, 3, 1, 2, 3, 4, 2, 3, 1, 2, 3, 4, 1, 2, 3, 1, 2, 3, 4, 1, 2, 3, 4, 1, 1, 2, 3, 4, 2, 3, 4, 2, 4, 2, 2, 3, 4, 2, 3, 4, 1, 2, 3, 1, 2, 3, 4, 3, 4, 3, 4, 1, 2, 3, 4, 1, 2, 3, 4, 1, 2, 3, 4, 2, 4, 1, 2, 3, 4, 2, 3, 1, 2, 3, 4, 1, 2, 1, 2, 1, 2, 3, 4, 1, 2, 3, 4, 2, 3, 4, 1, 2, 3, 4, 1, 2, 3, 4, 1, 3, 4, 2, 1, 2, 3, 4, 1, 2, 3, 4, 2, 3, 4, 2, 3, 4, 2, 3, 4, 1, 2, 3, 4, 2, 3, 4, 2, 3, 4, 2, 4, 2, 3, 4, 1, 2, 3, 4, 1, 2, 3, 4, 1, 2, 3, 4, 2, 3, 4, 2, 1, 2, 3, 4, 1, 2, 3, 4, 1, 2, 3, 4, 1, 2, 3, 4, 1, 2, 2, 3, 2, 3, 4, 1, 2, 3, 4, 1, 4, 2, 3, 4, 1, 2, 3, 4, 2, 3, 4, 1, 2, 3, 2, 4, 1, 2, 3, 4, 1, 2, 3, 4, 2, 3, 4, 1, 2, 3, 4, 1, 2, 3, 4, 2, 3, 4, 1, 2, 3, 4, 2, 1, 2, 3, 4, 1, 2, 3, 4, 2, 3, 4, 1, 2, 1, 2, 3, 4, 1, 2, 3, 4, 1, 2, 3, 4, 1, 2, 3, 4, 2, 4, 3, 4, 1, 2, 3, 4, 1, 2, 3, 1, 2, 3, 4, 1, 2, 3, 4, 1, 2, 3, 4, 1, 2, 1, 2, 3, 4, 1, 2, 3, 4, 1, 2, 3, 4, 1, 2, 4, 1, 1, 2, 3, 4, 1, 2, 3, 4, 1, 2, 3, 4, 2, 4, 2, 3, 4, 1, 2, 3, 4, 1, 2, 3, 4, 2, 3, 2, 3, 4, 1, 2, 3, 4, 1, 2, 3, 4, 2, 4, 1, 2, 3, 4, 1, 2, 3, 4, 1, 2, 3, 4, 2, 3, 4, 1, 2, 3, 4, 1, 2, 3, 4, 1, 3, 4, 1, 2, 3, 4, 2, 3, 4, 1, 2, 3, 4, 1, 2, 3, 4, 3, 4, 1, 2, 3, 4, 1, 2, 3, 4, 1, 2, 3, 1, 2, 3, 4, 3, 4, 1, 2, 3, 4, 3, 4, 2, 3, 4, 2, 3, 4, 1, 2, 3, 4, 1, 2, 3, 4, 2, 3, 4, 2, 3, 1, 1, 2, 3, 2, 3, 4, 1, 2, 3, 4, 2, 3, 4, 1, 2, 3, 4, 1, 2, 3, 4, 1, 2, 3, 4, 1, 2, 3, 4, 1, 2, 3, 4, 1, 2, 3, 4, 1, 2, 3, 4, 1, 2, 3, 4, 2, 3, 1, 2, 3, 4, 1, 2, 3, 1, 3, 4, 1, 2, 3, 4, 1, 2, 3, 4, 2, 3, 4, 1, 2, 3, 4, 2, 3, 3, 4, 1, 2, 4, 2, 3, 4, 1, 2, 3, 4, 1, 2, 3, 4, 2, 3, 4, 2, 4, 1, 2, 3, 4, 1, 2, 1, 2, 3, 4, 1, 2, 3, 4, 1, 2, 3, 4, 1, 2, 3, 1, 2, 3, 1, 2, 3, 4, 2, 1, 2, 3, 4, 1, 2, 3, 4, 1, 2, 3, 4, 3, 4, 1, 2, 3, 4, 1, 2, 3, 4, 3, 4, 1, 2, 3, 4, 1, 2, 3, 4, 1, 2, 3, 4, 1, 2, 3, 4, 2, 3, 4, 1, 2, 3, 4, 3, 4, 1, 2, 3, 4, 2, 3, 4, 1, 2, 3, 4, 2, 3, 1, 3, 4, 1, 2, 3, 4, 2, 1, 2, 1, 2, 3, 4, 1, 2, 3, 4, 1, 2, 3, 4, 1, 2, 3, 4, 2, 3, 4, 1, 2, 3, 4, 2, 3, 4, 1, 2, 3, 4, 1, 2, 3, 4, 2], \"Freq\": [0.8124069140462193, 0.17204413366296709, 0.012807255607665045, 0.0029883596417885103, 0.9459242776749242, 0.05255134875971801, 0.04164304582667888, 0.06632040631656266, 0.05012588849507643, 0.842114926717284, 0.8936067991722143, 0.10425412657009167, 0.7530553632708727, 0.14755365458617276, 0.09305185424353238, 0.0059819049156556526, 0.9481488807942158, 0.0036467264645931377, 0.04740744403971079, 0.6512748934409767, 0.32514517544804616, 0.023136749804781483, 0.0002461356362210796, 0.8566595354922699, 0.0005264388206935737, 0.03507996868803541, 0.10772852594374858, 0.16115026018558284, 0.22068250255233665, 0.2769499090052325, 0.34117535299815704, 0.024237171724137297, 0.8244611693046703, 0.15138299060485752, 0.057158487886163734, 0.0013292671601433427, 0.94245041654163, 0.9082386662806341, 0.0016132125511201317, 0.09033990286272738, 0.030922135057819135, 0.8225287925379889, 0.11827716659615818, 0.028602974928482697, 0.02321319350215303, 0.31388274692041707, 0.09931209741790688, 0.5635759674609675, 0.884410815385763, 0.1075271508067797, 0.008064536310508477, 0.7497536272355654, 0.06091748221288969, 0.04217364153200055, 0.1452647652768908, 0.04175854270105201, 0.0046398380778946684, 0.1299154661810507, 0.8212513397873562, 0.7606503373920076, 0.17371253379886678, 0.06580020219654045, 0.001988213298088438, 0.19060338151007827, 0.4879075433509027, 0.319572150779415, 0.9939193118570068, 0.004710518065673018, 6.69937428241859e-05, 0.9998146179081504, 0.0001339874856483718, 0.6526090313566144, 0.2102241977759402, 0.137102737679961, 0.2624325918375721, 0.655442957472671, 0.08205009258181999, 0.3096732072847121, 0.03778621182856936, 0.12356525592216072, 0.5290069655999711, 0.9977673404651359, 0.004271971273641905, 0.03588455869859201, 0.959484748059972, 0.0380050380458057, 0.9621275421069758, 0.04134498113897287, 0.17665582850288408, 0.7780373723424895, 0.001169946397726076, 0.19947586081229596, 0.799658362845773, 0.26131307040125373, 0.03127730969120698, 0.42265677737438556, 0.28468253198185367, 0.12324378180959256, 0.8712060438264302, 0.005312231974551404, 0.014518968846546883, 0.7918887591720779, 0.028130502140184588, 0.1654557491471072, 0.04048561476959804, 0.04467378181472887, 0.9144164715202315, 0.07358896000032208, 0.8207489412648534, 0.10541121297343432, 0.0068843257901922235, 0.0017210814475480559, 0.23234599541898754, 0.7589969183686927, 0.11595996284402778, 0.7224809858934426, 0.10335561905663344, 0.05848415517350966, 0.167088712073638, 0.65222659423339, 0.1809590105662373, 0.0013145609569597913, 0.11173768134158227, 0.8860140849908994, 0.07310487883949063, 0.11574939149586017, 0.8102457404710212, 0.11172549021611763, 0.7803529413164355, 0.10741176472514784, 0.7462842554994683, 0.16868068788686613, 0.058782663960574556, 0.028113447981144353, 0.03583558207957712, 0.0004842646226969881, 0.20193834766464405, 0.7617482515023623, 0.19848328455764358, 0.790243857848462, 0.010329985069914536, 0.0007378560764224668, 0.01401446585354791, 0.9845162262117406, 0.00799162739163686, 0.9869659828671521, 0.00399581369581843, 0.002492697849631738, 0.9596886721082192, 0.037390467744476075, 0.27732415661497356, 0.25207689464003735, 0.1653735231869256, 0.30522277682238746, 0.07057304066788238, 0.924878269805406, 0.5455404562645151, 0.33577227557487865, 0.08632098708047445, 0.03231923212965631, 0.9769052022004318, 0.021369801298134445, 0.07075410643308258, 0.03859314896349959, 0.10505912773397111, 0.784727362257825, 0.7159003888122393, 0.2597514685070957, 0.024549681474755992, 0.006368906444866402, 0.9362292473953612, 0.015922266112166007, 0.044582345114064816, 0.0745843612767829, 0.00027121585918830145, 0.0005424317183766029, 0.9245748639729197, 0.9961139447852472, 0.38200629350189735, 0.499876398088738, 0.11454831073030246, 0.0035361031376052207, 0.8052870496459111, 0.1859508271063184, 0.008247818944231865, 0.9908189529955697, 0.006518545743391906, 0.9987399992673136, 0.9285261635513848, 0.0663232973965275, 0.004522043004308692, 0.0019570616838172194, 0.9358668972013943, 0.062234561545387576, 0.09658169847414072, 0.5815948767680096, 0.3215492382613644, 0.0008197899277029353, 0.13403565317942992, 0.7476484140650771, 0.11722995966151975, 0.9950774894215377, 0.00337887093182186, 0.9244791804113993, 0.07369036945308255, 0.011661433773060911, 0.10016338651504103, 0.3650445250745674, 0.523515080454913, 0.04854163818914374, 0.9164072906617136, 0.01029671113103049, 0.025006298461074047, 0.7480172797372144, 0.21614534399011356, 0.032421801598517035, 0.0030877906284301937, 0.9546251364466732, 0.041249234290905636, 0.6669483035257453, 0.20339934346093308, 0.1256992031297031, 0.003977822883851364, 0.9290175991083183, 0.06855346151180974, 0.02274454932098772, 0.8472344622067925, 0.1267196319312173, 0.003249221331569674, 0.860546691183413, 0.1366408597487176, 0.01738355522479852, 0.9778249813949168, 0.6831102553788477, 0.1575414955694129, 0.08332836096414944, 0.07603617987704066, 0.7353837692498344, 0.11676440500181387, 0.09897909827968328, 0.048716274934531616, 0.18144217296733747, 0.02244645438771185, 0.7949785928981281, 0.06508124530742532, 0.04788120190474863, 0.13202195476649137, 0.7549424455661337, 0.03752559681254598, 0.0009746908262998956, 0.032652142681046506, 0.9288803574638006, 0.05381842865503175, 0.0012231461057961761, 0.944268793674648, 0.9968540466248672, 0.6597057833879582, 0.1750438848752971, 0.08703435501459758, 0.07825778139968018, 5.4525778425617344e-05, 0.03604153953933306, 0.9630888243316791, 0.0008178866763842601, 0.08254403694972372, 0.9158457432993156, 0.0013102228087257734, 0.010500876823154072, 0.04830403338650873, 0.9408785633546048, 0.004039118557066709, 0.0010097796392666773, 0.9946329446776772, 0.11941442472568826, 0.23913425718724785, 0.5579799334369117, 0.08352901576080753, 0.059329234227796124, 0.9330131629247939, 0.007314563123974865, 0.025155123879453848, 0.9574918581417512, 0.017169370266928816, 0.21075391069413635, 0.7887305445674497, 0.8350207859156458, 0.12639385666592015, 0.03832882296006243, 0.6822546017397839, 5.715940027980763e-05, 0.0046870708229442256, 0.3129477165319468, 0.7562637954360797, 0.0030994417845740968, 0.035643580522602115, 0.20301343688960335, 0.47288962222112896, 0.18527204058427804, 0.2064172191292228, 0.13542983401405106, 0.04536561131511607, 0.9453212519987702, 0.009808780824889961, 0.994202592042961, 0.4731429732825357, 0.14551438943694442, 0.14551438943694442, 0.23592797358682033, 0.09400850825440074, 0.7788141486653313, 0.119165714688677, 0.007944380979245134, 0.17540950832895202, 0.017663370230532556, 0.6547688925060782, 0.15214982277785472, 0.5069837016984793, 0.20156166805752487, 0.14073037351190937, 0.15077049008739932, 0.8496618884834438, 0.14919658160869995, 0.005630301955639104, 0.9909331441924824, 0.06778517976616853, 0.8887390236008762, 0.041424276523769656, 0.07208600075243911, 0.808335154504879, 0.06560636023536592, 0.05426698933048787, 0.022528758096974966, 0.9757768350752282, 0.002625756021956965, 0.12341053303197734, 0.8717509992897122, 0.15334279985228327, 0.27348414527226417, 0.10867486373459809, 0.4644780790168491, 0.04714444439693431, 0.8532371576100899, 0.09892604725914085, 0.7617813323607845, 0.2109473870494138, 0.027336071945623576, 0.9552680021735255, 0.04086708030688879, 0.24720223278443032, 0.004376810070545863, 0.0451686799280333, 0.7030907697324873, 0.025206404714052978, 0.10105581433305258, 0.5362403633003325, 0.3373514713099967, 0.00020314661902301026, 0.970837692310966, 0.029049966520290463, 0.004367991982474768, 0.9522222521794994, 0.030575943877323375, 0.013103975947424304, 0.08453745316533484, 0.10794047692296992, 0.7828072640564057, 0.02483586194687803, 0.08272794090891114, 0.8898758358604929, 0.027366277030704447, 0.017545461904203925, 0.04121143377499062, 0.26114175857419797, 0.6801926742862313, 0.9976154102357182, 0.016945549242393852, 0.15190474499431633, 0.7940200216435976, 0.036917089420929465, 0.7164574483565602, 0.1795736296842404, 0.1033352088975808, 0.0009185351902007182, 0.20704978239439228, 0.004108130603063339, 0.7887610757881611, 0.8133093238296262, 0.18543452583315476, 0.006588979880530282, 0.02269537514404875, 0.2027941585452098, 0.7679822105195852, 0.27984603439942524, 0.2523479915040128, 0.24047886306926372, 0.22735647262587658, 0.0008197972472475717, 0.7574926564567563, 0.1336269513013542, 0.10793997088759695, 0.7698056008309264, 0.037573844802461884, 0.10951401107059013, 0.0833956067566837, 0.9948257055636291, 0.005834754871340934, 0.9588596304754015, 0.03705737702320392, 0.3103729232032926, 0.012987708159794433, 0.02364428921398474, 0.6530486077270996, 0.8759231904104748, 0.014359396564106145, 0.10625953457438547, 0.4251070150022476, 0.061802242670163716, 0.16256966637680018, 0.3505089090042571, 0.3489048582437835, 0.5933148961662207, 0.05773245855832389, 9.296692199408033e-05, 0.17385222039099885, 0.6789456031178781, 0.14079395727119529, 0.006321898923309048, 0.9446002362433209, 0.05505338800191134, 0.366274583128695, 0.18662273443234914, 0.2478452961137694, 0.19927640745313774, 0.18507924394512698, 0.7842821601659403, 0.02978286684174457, 0.0007091158771843945, 0.9110264869829141, 0.02013801941432679, 0.06479188855044271, 0.004013011115173817, 0.8714123840920511, 0.026645678788771665, 0.10263520718637974, 0.9950582297362031, 0.07311453526424855, 0.07383134443350588, 0.2415646900397231, 0.6114382213765098, 0.36699274230078727, 0.2672652420137251, 0.17534056402930193, 0.1903888641843914, 0.15747617885542284, 0.38635341661907285, 0.18961936017887743, 0.2665470135043785, 0.9619442546037109, 0.0352712893354694, 0.9354882025898579, 0.013656762081603765, 0.047798667285613175, 0.0290267527492501, 0.895185054786873, 0.05340922505862018, 0.022060332089430076, 0.034237630410177834, 0.11258509141015532, 0.7844198206552706, 0.06879033103885424, 0.0017074208185868676, 0.9979874684640241, 0.011962011326186116, 0.9875953253448781, 0.0002917563738094175, 0.10045476628685975, 0.19954383333417006, 0.07723787921451905, 0.6227588532345505, 0.005433132106279129, 0.010866264212558258, 0.09507981185988476, 0.8896753824032074, 0.9565991432917176, 0.040706346523051815, 0.6859582067618204, 0.13920636596519365, 0.1300052614341609, 0.04481572465546121, 0.46628646198733864, 0.41306061171542857, 0.10974329917905673, 0.010925306108444702, 0.06140235776314322, 0.4710687343637525, 0.2765486035688854, 0.19102955748533446, 0.0023881422899288286, 0.9975458176448779, 5.366611887480514e-05, 0.6471662199628371, 0.09884712065764477, 0.06509788946167748, 0.18893921062846958, 0.35886092641212275, 0.38872368111497135, 0.12143171172535883, 0.13097966731062335, 0.896487647315669, 0.006914559318665455, 0.09680383046131637, 0.008107194269242488, 0.00675599522436874, 0.029996618796197205, 0.955027484916765, 0.9621703508363152, 0.030913103641327395, 0.0038641379551659243, 0.03928434761158826, 0.8449706040819803, 0.051426782327897366, 0.06428347790987171, 0.043598784831643346, 0.7973733314764994, 0.004650537048708624, 0.1544365844925322, 0.8390899078205628, 0.1606105284852721, 0.0004080898531666317, 0.03162696362041395, 0.5468404032432864, 0.42114872846796386, 0.014586102587364634, 0.9307756713562058, 0.04011178211525274, 0.014586102587364634, 0.14718576223774754, 0.8521988425454973, 0.0013441622122168726, 0.8408064266938301, 0.11021141322413841, 0.04444008597747517, 0.004444008597747517, 0.9859484345315631, 0.013644596479934497, 0.1418524938964695, 0.16916868359950588, 0.393161439164404, 0.2957816190300709, 0.8975922897903893, 0.10028964131736193, 0.7076998737889845, 0.19482809025440792, 0.09730873264598536, 0.7650238616803906, 0.15133047768930286, 0.08371473233876328, 0.2540402005249093, 0.1731517784672267, 0.4724619197460095, 0.10042113761138431, 0.6261376197442163, 0.1169106362528525, 0.20810458028783885, 0.04869756611468271, 0.9335602647406214, 0.015958295123771307, 0.047874885371313916, 0.9810161424269443, 0.017312049572240192, 0.9962875870743478, 0.04963849746603835, 0.9327900982159707, 0.016546165822012786, 0.7908567506070848, 0.000795097269377096, 0.20831548457679913, 0.0003556130563461913, 0.09317062076270212, 0.8815647666822082, 0.02524852700057958, 0.08954798747478537, 0.10368714339185675, 0.8059318872730683, 0.006855110208722591, 0.027420440834890362, 0.7741378028564583, 0.19145343511503807, 0.5081837079390462, 0.1312701524275828, 0.1634118144636271, 0.19713052066499134, 0.00041131148710551736, 0.15506443063878003, 0.0751328983112745, 0.769563792374423, 0.012801027157277331, 0.043910500132521076, 0.39951112662944605, 0.5435971067253118, 0.10138127883064121, 0.4530148532822682, 0.31962455989545435, 0.12605731914303608, 0.7770395051273201, 0.19755241655779326, 0.00878010740256859, 0.01756021480513718, 0.4328486291611404, 0.2694376449262278, 0.12651819761009803, 0.1711905501101453, 0.3451262829383394, 0.20781885486290638, 0.24436067708339776, 0.20271524840753047, 0.9784378963266841, 0.02430901605780582, 0.02429139761113256, 0.013557989364353056, 0.03643709641669884, 0.9261801484523682, 0.7927447115195418, 0.20225849660344475, 0.00407231872355929, 0.040025663790156304, 0.22127395265124145, 0.738209176507128, 0.0003996496301969505, 0.10242449093904703, 0.8739766484364169, 0.023179678551423128, 0.2663562390305888, 0.15206367217765232, 0.18857574065821098, 0.392959388359729, 0.9666774303772404, 0.02416693575943101, 0.01035725818261329, 0.00026416038778519034, 0.16642104430466992, 0.7483663785954442, 0.08505964486683129, 0.0648584426073568, 0.9344420064541407, 0.9743993271081204, 0.023999983426308383, 0.8479215122495305, 0.1513620723772992, 0.0007347673416373747, 0.8117695844062729, 0.18167676339234826, 0.006826005560984183, 0.8033499463402743, 0.12902967015241837, 0.05497785945624782, 0.012341968449361756, 0.19499418736294616, 0.7729625700502397, 0.00046761196010298837, 0.03179761328700321, 0.023795453938947077, 0.8000417486500044, 0.17621498322355403, 0.21182505944125754, 0.7855179287613301, 0.7411773350912072, 0.2025650536663173, 0.012879858903638672, 0.04449405803075178, 0.06163374797500232, 0.9374817455145089, 0.07546609434034669, 0.24133150310252213, 0.08986598513320437, 0.5933288335945986, 0.21305821274812117, 0.4074974002671477, 0.35823947276232765, 0.021093705797518632, 0.14827373916145134, 0.294702294013338, 0.15552267752045562, 0.4013275873303283, 0.021903209365492955, 0.9557764086760562, 0.021903209365492955, 0.007114419393114634, 0.9284317308014597, 0.0640297745380317, 0.009664490061680082, 0.1739608211102415, 0.04155730726522436, 0.7750921029467427, 0.9922742133762742, 0.3712447529992488, 0.26988516583169075, 0.17033083060949517, 0.18854263699947546, 0.28416631389736885, 0.15815101078405028, 0.4415951739472454, 0.1161459097462774, 0.541122262607207, 0.14010579925299455, 0.2224353587959692, 0.0963148267674154, 0.8878189270097272, 0.11142666695263782, 0.540520456573439, 0.15211343649894962, 0.16237930809365572, 0.14497196060698014, 0.507542455650805, 0.31173708711074066, 0.13877328393962005, 0.04194803199831165, 0.05289403083399821, 0.9450400175674347, 0.006934593606520562, 0.051255691874282416, 0.9232054618767809, 0.018994756400469364, 0.44729341932371697, 0.39765768831208487, 0.07393894032032294, 0.08114412708007598, 0.783642742099764, 0.0011243080948346686, 0.029232010465701383, 0.18607298969513766, 0.298822599271238, 0.3740501448462577, 0.25244843341627043, 0.0747056498178095, 0.0759194300678191, 0.9201434924219674, 0.0030367772027127637, 0.26676928539867883, 0.5758395828043092, 0.12963213356969047, 0.02751840028409219, 0.18076553340204007, 0.8165615474368018, 0.5961012590467377, 0.046581209548474375, 0.18673950771510053, 0.17056739638818214, 0.9031226752223901, 0.09446088758509805, 0.0019147477213195551, 0.5144328285122789, 0.22428765299233455, 0.10730683331617333, 0.15403962896288403, 0.025486601205737782, 0.9727386126856588, 0.8574535968371215, 0.02388034386317484, 0.11790919782442576, 0.10308738185364767, 0.07387929032844749, 0.027489968494306044, 0.793772840273087, 0.9939880172251846, 0.028503927307897258, 0.9719839211992966, 0.0014749045178505708, 0.0011799236142804566, 0.5961564061152007, 0.4013215193071403, 0.14717196132666235, 0.7300612865810417, 0.02954484026632809, 0.09277632083631998, 0.36260260897168245, 0.5442332527935562, 0.034251290947370554, 0.058951741149801236, 0.603235652807866, 0.3387045772617477, 0.053303734485044316, 0.004697956259698821, 0.002431565486912013, 0.8850898372359728, 0.1118520123979526, 0.04698080738633716, 0.8721149876889025, 0.04860083522724534, 0.03240055681816356, 0.05507938871929449, 0.8904501176285943, 0.05507938871929449, 0.4545931112963132, 0.026662201916915648, 0.3328408597682013, 0.18586482954797845, 0.07125681900848059, 0.6987645131041055, 0.161540327909278, 0.06864531255267241, 0.9972286294457248], \"Term\": [\"alone\", \"alone\", \"alone\", \"alone\", \"america\", \"america\", \"amon\", \"amon\", \"amon\", \"amon\", \"anymore\", \"anymore\", \"anything\", \"anything\", \"anything\", \"anything\", \"art\", \"art\", \"art\", \"away\", \"away\", \"away\", \"away\", \"baby\", \"baby\", \"baby\", \"baby\", \"back\", \"back\", \"back\", \"back\", \"bang\", \"bang\", \"bang\", \"bass\", \"bass\", \"bass\", \"battle\", \"battle\", \"battle\", \"bear\", \"bear\", \"bear\", \"bear\", \"beat\", \"beat\", \"beat\", \"beat\", \"beautiful\", \"beautiful\", \"beautiful\", \"bedroom\", \"bedroom\", \"bedroom\", \"bedroom\", \"beep\", \"beep\", \"beep\", \"beep\", \"belong\", \"belong\", \"belong\", \"big\", \"big\", \"big\", \"big\", \"birth\", \"birth\", \"bitch\", \"bitch\", \"bitch\", \"black\", \"black\", \"black\", \"block\", \"block\", \"block\", \"body\", \"body\", \"body\", \"body\", \"boogie\", \"boom\", \"boom\", \"boom\", \"booty\", \"booty\", \"bop\", \"bop\", \"bop\", \"bounce\", \"bounce\", \"bounce\", \"boy\", \"boy\", \"boy\", \"boy\", \"brick\", \"brick\", \"brick\", \"brother\", \"brother\", \"brother\", \"brother\", \"bubble\", \"bubble\", \"bubble\", \"buck\", \"buck\", \"buck\", \"bump\", \"bump\", \"bump\", \"bump\", \"burn\", \"burn\", \"burn\", \"burn\", \"bust\", \"bust\", \"bust\", \"butt\", \"butt\", \"butt\", \"butter\", \"butter\", \"butter\", \"cash\", \"cash\", \"cash\", \"cheat\", \"cheat\", \"cheat\", \"cheat\", \"chick\", \"chick\", \"chick\", \"chick\", \"child\", \"child\", \"child\", \"child\", \"chopper\", \"chopper\", \"chronic\", \"chronic\", \"chronic\", \"clique\", \"clique\", \"clique\", \"come\", \"come\", \"come\", \"come\", \"compton\", \"compton\", \"could\", \"could\", \"could\", \"could\", \"criminal\", \"criminal\", \"cruise\", \"cruise\", \"cruise\", \"cruise\", \"cry\", \"cry\", \"cry\", \"curse\", \"curse\", \"curse\", \"curse\", \"dance\", \"dance\", \"dance\", \"dance\", \"darling\", \"day\", \"day\", \"day\", \"day\", \"death\", \"death\", \"death\", \"defeat\", \"defeat\", \"destroy\", \"devil\", \"devil\", \"devil\", \"dick\", \"dick\", \"dick\", \"die\", \"die\", \"die\", \"dog\", \"dog\", \"dog\", \"dog\", \"dogg\", \"dogg\", \"dro\", \"dro\", \"drop\", \"drop\", \"drop\", \"drop\", \"earth\", \"earth\", \"earth\", \"earth\", \"else\", \"else\", \"else\", \"else\", \"emcee\", \"emcee\", \"everything\", \"everything\", \"everything\", \"everything\", \"evil\", \"evil\", \"family\", \"family\", \"family\", \"family\", \"fantasy\", \"fantasy\", \"fate\", \"fate\", \"feel\", \"feel\", \"feel\", \"feel\", \"feeling\", \"feeling\", \"feeling\", \"feeling\", \"flavor\", \"flavor\", \"flavor\", \"floor\", \"floor\", \"floor\", \"floor\", \"freak\", \"freak\", \"freak\", \"freak\", \"freaky\", \"freaky\", \"freaky\", \"freedom\", \"friend\", \"friend\", \"friend\", \"friend\", \"fuck\", \"fuck\", \"fuck\", \"fuck\", \"fucking\", \"fucking\", \"fucking\", \"funk\", \"funk\", \"funk\", \"funky\", \"funky\", \"funky\", \"game\", \"game\", \"game\", \"game\", \"gang\", \"gang\", \"gang\", \"gangster\", \"gangster\", \"gangster\", \"gentleman\", \"gentleman\", \"ghetto\", \"ghetto\", \"ghetto\", \"girl\", \"girl\", \"girl\", \"girl\", \"girlfriend\", \"girlfriend\", \"girlfriend\", \"girlfriend\", \"give\", \"give\", \"give\", \"give\", \"glock\", \"glock\", \"glock\", \"glory\", \"go\", \"go\", \"go\", \"go\", \"god\", \"god\", \"god\", \"god\", \"gon\", \"gon\", \"gon\", \"gon\", \"good\", \"good\", \"good\", \"good\", \"goodbye\", \"goodbye\", \"gotti\", \"gotti\", \"gram\", \"gram\", \"gram\", \"great\", \"great\", \"great\", \"great\", \"groove\", \"groove\", \"hah\", \"hah\", \"hah\", \"hand\", \"hand\", \"hand\", \"hand\", \"hater\", \"hater\", \"hater\", \"heart\", \"heart\", \"heart\", \"hero\", \"hero\", \"hey\", \"hey\", \"hey\", \"hey\", \"hit\", \"hit\", \"hit\", \"hit\", \"hoe\", \"hoe\", \"hoe\", \"holy\", \"holy\", \"holy\", \"holy\", \"homie\", \"homie\", \"homie\", \"homie\", \"hood\", \"hood\", \"hood\", \"hot\", \"hot\", \"hot\", \"hot\", \"human\", \"hundred\", \"hundred\", \"hundred\", \"hundred\", \"hurt\", \"hurt\", \"hurt\", \"hurt\", \"jam\", \"jam\", \"jam\", \"joy\", \"joy\", \"jump\", \"jump\", \"jump\", \"jump\", \"keep\", \"keep\", \"keep\", \"keep\", \"kid\", \"kid\", \"kid\", \"kid\", \"kiss\", \"kiss\", \"kiss\", \"kiss\", \"knowledge\", \"knowledge\", \"kush\", \"kush\", \"lady\", \"lady\", \"lady\", \"lady\", \"lately\", \"lately\", \"lately\", \"let\", \"let\", \"let\", \"let\", \"life\", \"life\", \"life\", \"life\", \"live\", \"live\", \"live\", \"live\", \"lonely\", \"lonely\", \"look\", \"look\", \"look\", \"look\", \"lord\", \"lord\", \"lord\", \"lord\", \"love\", \"love\", \"love\", \"love\", \"lover\", \"lover\", \"lover\", \"loving\", \"low\", \"low\", \"low\", \"low\", \"make\", \"make\", \"make\", \"make\", \"man\", \"man\", \"man\", \"man\", \"mass\", \"mass\", \"mental\", \"mental\", \"mental\", \"mom\", \"mom\", \"mom\", \"mom\", \"money\", \"money\", \"money\", \"money\", \"motherfuck\", \"motherfuck\", \"motherfucker\", \"motherfucker\", \"motherfucker\", \"move\", \"move\", \"move\", \"move\", \"nasty\", \"nasty\", \"nasty\", \"nasty\", \"nation\", \"nation\", \"need\", \"need\", \"need\", \"need\", \"never\", \"never\", \"never\", \"never\", \"new\", \"new\", \"new\", \"new\", \"nigger\", \"nigger\", \"nigger\", \"night\", \"night\", \"night\", \"night\", \"one\", \"one\", \"one\", \"one\", \"ooh\", \"ooh\", \"ooh\", \"party\", \"party\", \"party\", \"party\", \"path\", \"path\", \"path\", \"peace\", \"peace\", \"peace\", \"peace\", \"people\", \"people\", \"people\", \"people\", \"pimp\", \"pimp\", \"pop\", \"pop\", \"pop\", \"pop\", \"power\", \"power\", \"power\", \"power\", \"pray\", \"pray\", \"pray\", \"promise\", \"promise\", \"promise\", \"promise\", \"pussy\", \"pussy\", \"put\", \"put\", \"put\", \"put\", \"rack\", \"rack\", \"rap\", \"rap\", \"rap\", \"rapper\", \"rapper\", \"rapper\", \"real\", \"real\", \"real\", \"real\", \"really\", \"really\", \"really\", \"really\", \"rebel\", \"rebel\", \"rebel\", \"reign\", \"reign\", \"relationship\", \"remain\", \"remain\", \"remain\", \"rhyme\", \"rhyme\", \"rhyme\", \"rich\", \"rich\", \"rich\", \"rich\", \"rick\", \"rick\", \"rick\", \"rid\", \"rid\", \"rid\", \"rid\", \"right\", \"right\", \"right\", \"right\", \"rock\", \"rock\", \"rock\", \"rock\", \"roll\", \"roll\", \"roll\", \"roll\", \"run\", \"run\", \"run\", \"run\", \"satisfy\", \"satisfy\", \"satisfy\", \"satisfy\", \"say\", \"say\", \"say\", \"say\", \"see\", \"see\", \"see\", \"see\", \"sentence\", \"sentence\", \"shake\", \"shake\", \"shake\", \"shake\", \"share\", \"share\", \"share\", \"shawty\", \"shawty\", \"shawty\", \"shit\", \"shit\", \"shit\", \"shit\", \"show\", \"show\", \"show\", \"show\", \"slave\", \"slave\", \"slave\", \"smoke\", \"smoke\", \"smoke\", \"smoke\", \"snitch\", \"snitch\", \"snoop\", \"snoop\", \"someone\", \"someone\", \"someone\", \"son\", \"son\", \"son\", \"sorry\", \"sorry\", \"sorry\", \"sorry\", \"soul\", \"soul\", \"soul\", \"soul\", \"south\", \"south\", \"south\", \"speaker\", \"speaker\", \"special\", \"special\", \"special\", \"special\", \"spirit\", \"spirit\", \"step\", \"step\", \"step\", \"step\", \"still\", \"still\", \"still\", \"still\", \"stop\", \"stop\", \"stop\", \"stop\", \"struggle\", \"struggle\", \"struggle\", \"survive\", \"survive\", \"survive\", \"swing\", \"swing\", \"swing\", \"swing\", \"sword\", \"take\", \"take\", \"take\", \"take\", \"talk\", \"talk\", \"talk\", \"talk\", \"tell\", \"tell\", \"tell\", \"tell\", \"tha\", \"tha\", \"thing\", \"thing\", \"thing\", \"thing\", \"think\", \"think\", \"think\", \"think\", \"thong\", \"thong\", \"thug\", \"thug\", \"thug\", \"thug\", \"time\", \"time\", \"time\", \"time\", \"tonight\", \"tonight\", \"tonight\", \"tonight\", \"try\", \"try\", \"try\", \"try\", \"tuck\", \"tuck\", \"tuck\", \"use\", \"use\", \"use\", \"use\", \"vip\", \"vip\", \"want\", \"want\", \"want\", \"want\", \"war\", \"war\", \"war\", \"way\", \"way\", \"way\", \"way\", \"westside\", \"westside\", \"whoa\", \"whoa\", \"whoa\", \"wine\", \"wine\", \"wine\", \"wine\", \"wisdom\", \"wise\", \"wise\", \"wit\", \"wit\", \"wit\", \"wit\", \"word\", \"word\", \"word\", \"word\", \"world\", \"world\", \"world\", \"world\", \"would\", \"would\", \"would\", \"would\", \"wrist\", \"wrist\", \"wrist\", \"write\", \"write\", \"write\", \"write\", \"yay\", \"yay\", \"yay\", \"yeah\", \"yeah\", \"yeah\", \"yeah\", \"year\", \"year\", \"year\", \"year\", \"youth\"]}, \"R\": 30, \"lambda.step\": 0.01, \"plot.opts\": {\"xlab\": \"PC1\", \"ylab\": \"PC2\"}, \"topic.order\": [1, 2, 3, 4]};\n",
       "\n",
       "function LDAvis_load_lib(url, callback){\n",
       "  var s = document.createElement('script');\n",
       "  s.src = url;\n",
       "  s.async = true;\n",
       "  s.onreadystatechange = s.onload = callback;\n",
       "  s.onerror = function(){console.warn(\"failed to load library \" + url);};\n",
       "  document.getElementsByTagName(\"head\")[0].appendChild(s);\n",
       "}\n",
       "\n",
       "if(typeof(LDAvis) !== \"undefined\"){\n",
       "   // already loaded: just create the visualization\n",
       "   !function(LDAvis){\n",
       "       new LDAvis(\"#\" + \"ldavis_el2354423265427332004543687420\", ldavis_el2354423265427332004543687420_data);\n",
       "   }(LDAvis);\n",
       "}else if(typeof define === \"function\" && define.amd){\n",
       "   // require.js is available: use it to load d3/LDAvis\n",
       "   require.config({paths: {d3: \"https://d3js.org/d3.v5\"}});\n",
       "   require([\"d3\"], function(d3){\n",
       "      window.d3 = d3;\n",
       "      LDAvis_load_lib(\"https://cdn.jsdelivr.net/gh/bmabey/pyLDAvis@3.3.1/pyLDAvis/js/ldavis.v3.0.0.js\", function(){\n",
       "        new LDAvis(\"#\" + \"ldavis_el2354423265427332004543687420\", ldavis_el2354423265427332004543687420_data);\n",
       "      });\n",
       "    });\n",
       "}else{\n",
       "    // require.js not available: dynamically load d3 & LDAvis\n",
       "    LDAvis_load_lib(\"https://d3js.org/d3.v5.js\", function(){\n",
       "         LDAvis_load_lib(\"https://cdn.jsdelivr.net/gh/bmabey/pyLDAvis@3.3.1/pyLDAvis/js/ldavis.v3.0.0.js\", function(){\n",
       "                 new LDAvis(\"#\" + \"ldavis_el2354423265427332004543687420\", ldavis_el2354423265427332004543687420_data);\n",
       "            })\n",
       "         });\n",
       "}\n",
       "</script>"
      ],
      "text/plain": [
       "<IPython.core.display.HTML object>"
      ]
     },
     "execution_count": 36,
     "metadata": {},
     "output_type": "execute_result"
    }
   ],
   "source": [
    "#generating\n",
    "visual = pyLDAvis.sklearn.prepare(lda, bow_matrix, vectorizer, mds='tsne', sort_topics=False) \n",
    "#sort_topics=False keeps the same topic ordering as sklearn\n",
    "\n",
    "#viewing\n",
    "pyLDAvis.display(visual)"
   ]
  },
  {
   "cell_type": "markdown",
   "metadata": {},
   "source": [
    "The pyLDAvis object provides a number of attributes which we can use for further analysis, most particularly topic_info. topic_info returns a dataframe of terms, including their log probability and log lift and their category (topic). Log probability and log lift are used in the relevance measure proposed by Sievert & Shirley (2014), with λ determining the weight of each in the measure. We can use this information to grab the top words per topic. To aid topic interpretation, I shall grab both the most specific words per topic (λ = 0) and the most common words (λ = 1)."
   ]
  },
  {
   "cell_type": "code",
   "execution_count": 37,
   "metadata": {},
   "outputs": [
    {
     "name": "stdout",
     "output_type": "stream",
     "text": [
      "MAIN RESULTS:\n",
      "---------\n",
      "\n",
      "TOPIC 1 :\n",
      "\n",
      "Most Common Words: ['love' 'want' 'baby' 'girl' 'say' 'make' 'let' 'feel' 'yeah' 'need'\n",
      " 'tell' 'see' 'time' 'think' 'one'] \n",
      "\n",
      "Most Specific Words: ['darling' 'loving' 'relationship' 'lonely' 'love' 'ooh' 'anymore'\n",
      " 'beautiful' 'lately' 'lover' 'fantasy' 'whoa' 'baby' 'goodbye' 'someone'] \n",
      "\n",
      "---------\n",
      "\n",
      "TOPIC 2 :\n",
      "\n",
      "Most Common Words: ['one' 'make' 'time' 'say' 'life' 'come' 'man' 'never' 'live' 'see' 'take'\n",
      " 'try' 'day' 'think' 'back'] \n",
      "\n",
      "Most Specific Words: ['freedom' 'human' 'destroy' 'youth' 'wisdom' 'glory' 'sword' 'knowledge'\n",
      " 'birth' 'defeat' 'fate' 'reign' 'criminal' 'sentence' 'wise'] \n",
      "\n",
      "---------\n",
      "\n",
      "TOPIC 3 :\n",
      "\n",
      "Most Common Words: ['nigger' 'fuck' 'shit' 'bitch' 'money' 'want' 'yeah' 'see' 'back' 'hoe'\n",
      " 'make' 'hit' 'come' 'real' 'put'] \n",
      "\n",
      "Most Specific Words: ['bitch' 'motherfuck' 'nigger' 'dogg' 'gotti' 'motherfucker' 'chronic'\n",
      " 'pussy' 'chopper' 'snoop' 'westside' 'hoe' 'fuck' 'clique' 'kush'] \n",
      "\n",
      "---------\n",
      "\n",
      "TOPIC 4 :\n",
      "\n",
      "Most Common Words: ['let' 'come' 'back' 'want' 'rock' 'girl' 'make' 'see' 'say' 'man' 'move'\n",
      " 'hey' 'roll' 'yeah' 'take'] \n",
      "\n",
      "Most Specific Words: ['boogie' 'funky' 'groove' 'booty' 'boom' 'party' 'thong' 'freaky' 'bass'\n",
      " 'funk' 'freak' 'shake' 'dance' 'bubble' 'nasty'] \n",
      "\n",
      "---------\n",
      "\n"
     ]
    }
   ],
   "source": [
    "def get_common_words(visual, n_words):\n",
    "    '''\n",
    "    DESCRIPTION:\n",
    "    Get most common words per topic (lambda = 1)\n",
    "    PARAMETERS\n",
    "    visual is pyLDAvis output for LDA model\n",
    "    n_words is number of top words to show\n",
    "    OUTPUT:\n",
    "    Dictionary of most common words by topic\n",
    "    '''\n",
    "    n_topics = len(visual.topic_order) #.topic_order attribute gives list of topics\n",
    "    lmbda = 1\n",
    "    common_words = {}\n",
    "    \n",
    "    for i in range(1,n_topics+1): \n",
    "        info = visual.topic_info\n",
    "        topic = info[info.Category == 'Topic'+str(i)].copy() #filtering topic_info dataframe by topic\n",
    "        topic['relevance-prob'] = topic['loglift']*(1-lmbda)+topic['logprob']*lmbda #measuring relevance with lambda = 1\n",
    "        common_words['Topic '+str(i)] = topic.sort_values(by='relevance-prob', ascending=False).Term[:n_words].values #adding to dict and sorting\n",
    "        \n",
    "    return common_words\n",
    "\n",
    "def get_specific_words(visual, n_words):\n",
    "    '''\n",
    "    DESCRIPTION:\n",
    "    Get most specific words per topic (lambda = 0)\n",
    "    PARAMETERS\n",
    "    visual is pyLDAvis output for LDA model\n",
    "    n_words is number of top words to show\n",
    "    OUTPUT:\n",
    "    Dictionary of most specific words by topic\n",
    "    '''\n",
    "    n_topics = len(visual.topic_order) \n",
    "    lmbda = 0\n",
    "    specific_words = {}\n",
    "    \n",
    "    for i in range(1,n_topics+1): \n",
    "        info = visual.topic_info\n",
    "        topic = info[info.Category == 'Topic'+str(i)].copy() \n",
    "        topic['relevance-prob'] = topic['loglift']*(1-lmbda)+topic['logprob']*lmbda #measuring relevance with lambda = 0\n",
    "        specific_words['Topic '+str(i)] = topic.sort_values(by='relevance-prob', ascending=False).Term[:n_words].values\n",
    "        \n",
    "    return specific_words\n",
    "\n",
    "#applying\n",
    "common_words_by_topic = get_common_words(visual, n_words=15)\n",
    "specific_words_by_topic = get_specific_words(visual, n_words=15)\n",
    "\n",
    "\n",
    "#displaying\n",
    "def show_relevant_words(common_words, specific_words, topic):\n",
    "    '''\n",
    "    DESCRIPTION:\n",
    "    Neatly printing output of get_common_words and get_specific_words functions\n",
    "    PARAMETERS\n",
    "    common_words, specific_words are dictionary output of get_common_words and get_specific_words functions\n",
    "    topic is topic output to print\n",
    "    OUTPUT:\n",
    "    Print display\n",
    "    '''\n",
    "    print(topic.upper(),':\\n')\n",
    "    print('Most Common Words:', common_words[topic], '\\n')\n",
    "    print('Most Specific Words:', specific_words[topic], '\\n')\n",
    "    print('---------\\n')\n",
    "    \n",
    "topics = common_words_by_topic.keys() #get list of topic headings\n",
    "print('MAIN RESULTS:\\n---------\\n')\n",
    "for t in topics:\n",
    "    show_relevant_words(common_words_by_topic, specific_words_by_topic, t)"
   ]
  },
  {
   "cell_type": "markdown",
   "metadata": {},
   "source": [
    "### IV.II Topic Interpretation"
   ]
  },
  {
   "cell_type": "markdown",
   "metadata": {},
   "source": [
    "Looking at the display above, we can see that there is clearly some level of distinction between the four topics.\n",
    "\n",
    "\n",
    "Topic 1 is clearly the topic of love. Almost every word in both the most common and the most specific lists for this topic are love related - words such as \n",
    "'love', 'baby', 'darling', and 'relationship', and verbs such as 'want' and 'need'. There is also a lot of emotion - specific keywords include 'lonely', 'cry', and 'joy'. Hence, I will label this topic 'Emotional'.\n",
    "\n",
    "Topic 2 has a philosophical vibe to it. Looking at the specific words for this topic, we find words such as 'freedom', 'knowledge', 'youth', 'wisdom', 'birth', and 'defeat'. Common words include 'life', 'man', and 'think'. Hence, I will label this topic as 'Philosphical'. \n",
    "\n",
    "Topic 3 contains lots of expletives and violence-related keywords, which some rap artists are famous for. Indeed, rap artists are known for being outspoken about the issues being faced in poor, urban neighbourhoods. Common words include 'nigger', 'fuck', 'shit', 'bitch', 'hit', and 'hoe', with specific keywords including 'motherfucker', 'gotti', and 'clique'. There is also a materialistic element, with keywords such as 'money'. I shall label this topic 'Issues/Crime'.\n",
    "\n",
    "Topic 4 clearly has a party vibe to it. Words like 'rock', 'girl', 'move', and 'roll' are very common to this topic, and specific words are laden with party and sexual references such as 'booty', 'party', 'dance', 'shake', and 'thong'. Hence, I will label this topic as 'Party'.\n",
    "\n",
    "Now that the topics have been labelled and interpreted, we can perform a more in-depth analysis of topic distribution using the other information present in the dataset, such as by artist. First, I associate each song with a topic. The .transform() method in sklearn's LDA returns a vector for each song with the probability of appearing in each topic. The topic label for each song is the topic with the maximum probability."
   ]
  },
  {
   "cell_type": "code",
   "execution_count": 38,
   "metadata": {},
   "outputs": [],
   "source": [
    "#get probabilities by topic\n",
    "lda_output = lda.transform(bow_matrix) \n",
    "topic_labels = ['Emotional','Philosophical','Issues/Crime','Party'] #columns\n",
    "songs_by_topic = pd.DataFrame(np.round(lda_output, 2), columns=topic_labels) #convert to dataframe\n",
    "\n",
    "#get dominant topic for each song\n",
    "dominant_topic_index = np.argmax(songs_by_topic.values, axis=1) #returns array of index value of column with largest probability per song\n",
    "dominant_topic_label = [topic_labels[index] for index in dominant_topic_index]\n",
    "dominant_topic_prob = np.max(songs_by_topic.values, axis=1) #returns probability value of dominant topic"
   ]
  },
  {
   "cell_type": "markdown",
   "metadata": {},
   "source": [
    "### IV.III Data Overview"
   ]
  },
  {
   "cell_type": "markdown",
   "metadata": {},
   "source": [
    "Before analysing the topic distribution, I'd like to provide a short overview of the whole dataset.\n",
    "\n",
    "The general descriptors of the dataset confirm the analysis performed in my first coursework project (exploratory data analysis of music lyrics), that Rap songs are relatively long in terms of both duration (over 4 minutes - the average song is normally around 3:30 minutes) and length. Songs also contain quite a large number of distinct words. Moreover, the average sentiment score is neutral - this contrasts with my previous findings for other genres such as Rock or Pop, which were found to be quite positive overall. The main reason is the diversity of topics in Rap songs, especially the inclusion of themes such as violence and social issues.\n",
    "\n",
    "This diversity is also confirmed by the wordcloud below, showing the most frequent words (excluding stopwords). There are various themes which appear, including love but also violence and expletives. Contrast this with my previous project, which showed wordclouds for the Rock, Pop, and R&B genres. The worldclouds in their large majority showed love-themed words."
   ]
  },
  {
   "cell_type": "code",
   "execution_count": 39,
   "metadata": {},
   "outputs": [
    {
     "name": "stdout",
     "output_type": "stream",
     "text": [
      "The final dataset consists of 12891 songs.\n",
      "The average duration of a song is 248 seconds.\n",
      "The average lyric length is 383 words.\n",
      "The average number of distinct words is 162.\n",
      "The average sentiment score is 0.05.\n"
     ]
    }
   ],
   "source": [
    "n_songs = len(data_lda)\n",
    "mean_duration = data_lda['Length_Seconds'].mean()\n",
    "mean_length = data_lda['Lyric_Length'].mean()\n",
    "mean_distinct = data_lda['Distinct_Words'].mean()\n",
    "mean_sent = data_lda['Sentiment_Score'].mean()\n",
    "\n",
    "print(f'The final dataset consists of {n_songs} songs.')\n",
    "print(f'The average duration of a song is {int(mean_duration)} seconds.')\n",
    "print(f'The average lyric length is {int(mean_length)} words.')\n",
    "print(f'The average number of distinct words is {int(mean_distinct)}.')\n",
    "print(f'The average sentiment score is {round(mean_sent,2)}.')"
   ]
  },
  {
   "cell_type": "code",
   "execution_count": 40,
   "metadata": {},
   "outputs": [
    {
     "data": {
      "image/png": "[encoded data removed]",
      "text/plain": [
       "<Figure size 720x720 with 1 Axes>"
      ]
     },
     "metadata": {},
     "output_type": "display_data"
    }
   ],
   "source": [
    "#generating wordcloud\n",
    "cloud = WordCloud(max_words=100, background_color=\"black\", stopwords=stops) \n",
    "cloud_string = ' '.join(song for song in lyrics_lda) #need to form a string of all words for wordcloud\n",
    "cloud.generate(cloud_string) \n",
    "\n",
    "#plotting\n",
    "fig, ax = plt.subplots(figsize=(10, 10)) \n",
    "ax.imshow(cloud, interpolation='bilinear') \n",
    "ax.set_title(\"Frequent Words\",fontsize=25)\n",
    "ax.yaxis.set_visible(False)\n",
    "ax.xaxis.set_visible(False)"
   ]
  },
  {
   "cell_type": "markdown",
   "metadata": {},
   "source": [
    "Analysing most frequent bigrams. As expected, the most common bigrams are full of stop words. The most common word in these bigrams is 'you', suggesting that the subject of the many songs is the second person."
   ]
  },
  {
   "cell_type": "code",
   "execution_count": 41,
   "metadata": {},
   "outputs": [
    {
     "data": {
      "image/png": "[encoded data removed]",
      "text/plain": [
       "<Figure size 432x360 with 1 Axes>"
      ]
     },
     "metadata": {},
     "output_type": "display_data"
    }
   ],
   "source": [
    "#NLTK frequency distirbution requires list of all words\n",
    "dataset_corpus_final = [token for sublist in lyrics_final for token in sublist]\n",
    "\n",
    "#create frequency distribution\n",
    "bigram = bigrams(dataset_corpus_final)\n",
    "bigram_fd = FreqDist(bigram).most_common(15)\n",
    "bigram_fd = [((x + ' ' + y), f) for ((x, y), f) in bigram_fd] #joining bigrams into one string\n",
    "\n",
    "        \n",
    "#first convert bigram distribution to dictionary and then to pandas series\n",
    "bigram_dict = {n:(f) for n,f in bigram_fd if 'UNK' not in n} #remove 'UNK' if it appears in top bigrams\n",
    "bigram_srs = pd.Series(bigram_dict)\n",
    "\n",
    "#plotting\n",
    "fig, ax = plt.subplots(figsize=(6,5))\n",
    "bar_plot = sns.barplot(x=bigram_srs.values, y=bigram_srs.index, ax=ax, color = 'cyan')\n",
    "plt.title('Top Bigrams by Frequency', fontsize = 16)\n",
    "plt.xticks(rotation=90);\n"
   ]
  },
  {
   "cell_type": "markdown",
   "metadata": {},
   "source": [
    "### IV.IV Songs by Topic"
   ]
  },
  {
   "cell_type": "markdown",
   "metadata": {},
   "source": [
    "In this subsection I analyse the distribution of the four identified topics. First, I combine the relevant results into one dataframe. I also do some data grouping which will be used for the graphical analysis below."
   ]
  },
  {
   "cell_type": "code",
   "execution_count": 42,
   "metadata": {},
   "outputs": [],
   "source": [
    "#creating dataframe of required info\n",
    "df_results = data_lda[['Title','URL','Artist','Decade','Length_Seconds','Lyric_Length','Distinct_Words','Sentiment_Score']].copy()\n",
    "\n",
    "#adding topic labels to songs\n",
    "df_results['Dominant_Topic_Label'] = dominant_topic_label\n",
    "df_results['Dominant_Topic_Prob'] = dominant_topic_prob\n",
    "\n",
    "#calculating counts and means data for charts\n",
    "n_songs_topic = df_results.groupby(['Dominant_Topic_Label']).count()['Title'] #count by topic\n",
    "means_topic = df_results.groupby(['Dominant_Topic_Label']).mean()[['Sentiment_Score', 'Lyric_Length', 'Distinct_Words', 'Length_Seconds']] #means by topic\n",
    "\n",
    "#calculating percentages of topic in decade\n",
    "decade_topics_sr = df_results.groupby(['Decade','Dominant_Topic_Label']).count()['Title'] #extract series\n",
    "decade_topics_sr = decade_topics_sr.groupby(level=0).apply(lambda x: 100*x/x.sum()) #calculating percentages by level 0 (sum of songs in decade)\n",
    "decade_topics = decade_topics_sr.reset_index() #convert index to numeric (allows us to use decade and topic label in chart)"
   ]
  },
  {
   "cell_type": "markdown",
   "metadata": {},
   "source": [
    "Here I provide a descriptive graphical analysis of the distribution of topics.\n",
    "\n",
    "There are a number of interesting observations that can be made from this graphical analysis. With regard to topic frequency, we can see that the most popular topics over the years have been the Emotional and Philisophical topics. Indeed, despite the bad rep that rap music gets for being violent and expletive, the Issues/Crime topic only ranks third out of four topics in song frequency. The Party topic was by far the least common topic in the dataset, having less than half of the observations of the most common topics. \n",
    "\n",
    "The time dyanmics, however, show that the nature of the genre is changing. The Philosophical topic was very popular in the period before 1990 - this is the period when the rap genre actually started taking form. This topic could be capturing the spiritual or religious focus that some rap artists are known for. The Party topic was also much more popular during this period, probably reflecting the origins of rap and hip hop music in party and disco atmospheres. As time passed and the genre developed, the Philosophical and Party topics appear to have diminished in popularity. One the other hand, the Emotional topic - always a popular topic in all genres - maintained and even slightly increased its share of rap songs. The Issues/Crime topic was the biggest upward mover over the past decades - from less than 5% of observations for the pre-1990 period, it comprised over 30% of songs in the 2010s.\n",
    "\n",
    "When analysing song length there is a clear distinction between the Emotional topic and the other topics. Emotional songs are shorter in lyric length, and also contain less distinct words. This might be explained by the fact that Emotional songs may include more choruses, meaning a higher repetition of words. On the other hand, songs in the Issues/Crime topic have the the longest lyrics on average and, along with the Philosophical topic, the most distinct words. Interestingly, despite these differences in lyric length, average song duration is very similar accross all topics. This could mean that the speed of rap is much faster in the Issues/Crime topic, comprising more lyrics per second. On the other hand, the Emotional topic is much slower, as would be expected.\n",
    "\n",
    "The greatest distinction between topics is in their sentiment scores. The Emotional and Party topics score an average positive sentiment. This is expected, given that the common words in these topics are based around positive themes such as love, fun, and dance. Meanwhile, the Issues/Crime topic has a negative score, again expected due to the high number of expletive or crime/violence-related words. The Philosophical topic scored a neutral score on average. "
   ]
  },
  {
   "cell_type": "code",
   "execution_count": 47,
   "metadata": {},
   "outputs": [
    {
     "data": {
      "image/png": "[encoded data removed]",
      "text/plain": [
       "<Figure size 864x864 with 6 Axes>"
      ]
     },
     "metadata": {},
     "output_type": "display_data"
    }
   ],
   "source": [
    "#plotting\n",
    "\n",
    "#figure variables\n",
    "title_font_size = 18\n",
    "label_font_size = 13\n",
    "tick_font_size = 12\n",
    "\n",
    "#initiating figure\n",
    "fig, ax = plt.subplots(nrows=3, ncols=2, figsize=(12, 12))\n",
    "fig.suptitle('\\nTopic Analysis', fontsize=32)\n",
    "\n",
    "#number of songs by topic\n",
    "sns.barplot(ax = ax[0,0], x=n_songs_topic.index, y=n_songs_topic)\n",
    "ax[0,0].set_title(\"Number of Songs by Topic\",fontsize=title_font_size, fontweight='bold')\n",
    "ax[0,0].set_xlabel(\"Topic\",fontsize=label_font_size, fontweight='bold')\n",
    "ax[0,0].set_ylabel(\"Frequency\",fontsize=label_font_size, fontweight='bold')\n",
    "ax[0,0].tick_params(labelsize=tick_font_size)\n",
    "\n",
    "#topics by decade\n",
    "order = ['pre-90s', '90s', '00s', '10s']\n",
    "sns.barplot(ax = ax[0,1], x=\"Decade\", y='Title', data=decade_topics, hue = \"Dominant_Topic_Label\", order = order)\n",
    "ax[0,1].set_title(\"% Topic per Decade\", fontsize=title_font_size, fontweight='bold')\n",
    "ax[0,1].set_xlabel(\"Topic\",fontsize=label_font_size)\n",
    "ax[0,1].set_ylabel(\"%\",fontsize=label_font_size)\n",
    "ax[0,1].tick_params(labelsize=tick_font_size)\n",
    "ax[0,1].legend(loc = 'upper right')\n",
    "\n",
    "#mean lyric length\n",
    "sns.barplot(ax = ax[1,0], x=means_topic.index, y=means_topic['Lyric_Length'])\n",
    "ax[1,0].set_title(\"Lyric Length by Topic\", fontsize=title_font_size, fontweight='bold')\n",
    "ax[1,0].axes.set_xlabel(\"Topic\",fontsize=label_font_size, fontweight='bold')\n",
    "ax[1,0].set_ylabel(\"Words\",fontsize=label_font_size, fontweight='bold')\n",
    "ax[1,0].tick_params(labelsize=tick_font_size)\n",
    "\n",
    "#mean distinct words \n",
    "sns.barplot(ax = ax[1,1], x=means_topic.index, y=means_topic['Distinct_Words'])\n",
    "ax[1,1].set_title(\"Distinct Words by Topic\", fontsize=title_font_size, fontweight='bold')\n",
    "ax[1,1].axes.set_xlabel(\"Topic\",fontsize=label_font_size, fontweight='bold')\n",
    "ax[1,1].set_ylabel(\"Words\",fontsize=label_font_size, fontweight='bold')\n",
    "ax[1,1].tick_params(labelsize=tick_font_size)\n",
    "\n",
    "#mean duration\n",
    "sns.barplot(ax = ax[2,0], x=means_topic.index, y=means_topic['Length_Seconds'])\n",
    "ax[2,0].set_title(\"Song Duration by Topic\", fontsize=title_font_size, fontweight='bold')\n",
    "ax[2,0].axes.set_xlabel(\"Topic\",fontsize=label_font_size, fontweight='bold')\n",
    "ax[2,0].set_ylabel(\"Duration\",fontsize=label_font_size, fontweight='bold')\n",
    "ax[2,0].tick_params(labelsize=tick_font_size)\n",
    "\n",
    "#mean sentiment \n",
    "sns.barplot(ax = ax[2,1], x=means_topic.index, y=means_topic['Sentiment_Score'])\n",
    "ax[2,1].set_title(\"Sentiment Score by Topic\", fontsize=title_font_size, fontweight='bold')\n",
    "ax[2,1].axes.set_xlabel(\"Topic\",fontsize=label_font_size, fontweight='bold')\n",
    "ax[2,1].set_ylabel(\"Score\",fontsize=label_font_size, fontweight='bold')\n",
    "ax[2,1].tick_params(labelsize=tick_font_size)\n",
    "\n",
    "\n",
    "fig.tight_layout(pad=3.0); #pad allows for increased spacing between plots\n",
    "\n",
    "# #code to plot single figure\n",
    "# order = ['pre-90s', '90s', '00s', '10s']\n",
    "# fig_decade_topics = sns.barplot(x=\"Decade\", y='Title', data=df_decade_topics, hue = \"Dominant_Topic_Label\", order = order)\n",
    "# fig_decade_topics.set_title(\"% Topic per Decade\", fontsize=18)\n",
    "# fig_decade_topics.axes.set_xlabel(\"Topic\",fontsize=14)\n",
    "# fig_decade_topics.axes.set_ylabel(\"%\",fontsize=14)\n",
    "# fig_decade_topics.axes.tick_params(labelsize=12)\n",
    "# fig_decade_topics.axes.legend(loc = 'upper right');"
   ]
  },
  {
   "cell_type": "markdown",
   "metadata": {},
   "source": [
    "Here I analyse top artists per topic. \n",
    "\n",
    "For those with good knowledge of rap music and artists, the results are as expected. The interesting observation is Mariah Carey placing first in the Emotional category. Despite not being a rapper herself, she has done numerous collaborations with famous rap artists, contributing to her positioning in this list.\n",
    "\n",
    "Artists normally have their own style, meaning that artists featuring prominently in one topic do not feature in the top ranks of other topics. Notable exceptions include Jay-Z, who has several songs in both the Philosophical and Issues/Crime topics, and R. Kelly, in the Emotional and Party topics."
   ]
  },
  {
   "cell_type": "code",
   "execution_count": 48,
   "metadata": {},
   "outputs": [
    {
     "name": "stdout",
     "output_type": "stream",
     "text": [
      "\n",
      "Top Artists for Emotional Topic:\n",
      "1.  Mariah Carey - 60 songs\n",
      "2.  R. Kelly - 44 songs\n",
      "3.  Mary J. Blige - 44 songs\n",
      "4.  Drake - 42 songs\n",
      "5.  Usher - 41 songs\n",
      "\n",
      "Top Artists for Philosophical Topic:\n",
      "1.  Nas - 86 songs\n",
      "2.  Eminem - 82 songs\n",
      "3.  Jay-Z - 70 songs\n",
      "4.  Ghostface Killah - 46 songs\n",
      "5.  Kanye West - 45 songs\n",
      "\n",
      "Top Artists for Issues/Crime Topic:\n",
      "1.  Snoop Dogg - 121 songs\n",
      "2.  Lil Wayne - 111 songs\n",
      "3.  Jay-Z - 87 songs\n",
      "4.  Rick Ross - 74 songs\n",
      "5.  T.I. - 62 songs\n",
      "\n",
      "Top Artists for Party Topic:\n",
      "1.  Missy Elliott - 36 songs\n",
      "2.  R. Kelly - 32 songs\n",
      "3.  Ll Cool J - 27 songs\n",
      "4.  Ludacris - 25 songs\n",
      "5.  Lil Jon - 25 songs\n"
     ]
    }
   ],
   "source": [
    "def top_artists_by_topic(topic_label, df_results, n):\n",
    "    '''\n",
    "    DESCRIPTION:\n",
    "    Get top n artists per topic\n",
    "    PARAMETERS:\n",
    "    topic_label is string topic label \n",
    "    df_results is dataframe of songs\n",
    "    n is number of top artists per topic to output\n",
    "    OUTPUT\n",
    "    Printed output of top artists for topic\n",
    "    '''\n",
    "    df_topic = df_results[df_results['Dominant_Topic_Label']==topic_label].copy() #filtering by topic label\n",
    "\n",
    "    #extracting topic artists and converting strings to lists\n",
    "    artists_topic = [ast.literal_eval(lst) for lst in df_topic['Artist']] \n",
    "    artists_topic = [artist.lower() for sublist in artists_topic for artist in sublist] #list of all topic artists\n",
    "    \n",
    "    #counting artists in topic\n",
    "    artists_topic_count = {}\n",
    "    for artist in set(artists_topic):\n",
    "        artists_topic_count[artist.title()] = artists_topic.count(artist) #title() re-capitalises artist names\n",
    "\n",
    "    top_topic_artists = sorted(artists_topic_count, key=artists_topic_count.get, reverse=True)[:n] #get top five artists\n",
    "\n",
    "    print(f'\\nTop Artists for {topic_label} Topic:')\n",
    "    rank = 1\n",
    "    for artist in top_topic_artists:\n",
    "        print(f'{rank}.  {artist} - {artists_topic_count[artist]} songs')\n",
    "        rank += 1\n",
    "        \n",
    "for topic_label in topic_labels:\n",
    "    top_artists_by_topic(topic_label, df_results, n=5)"
   ]
  },
  {
   "cell_type": "markdown",
   "metadata": {},
   "source": [
    "### IV.V Model Evaluation"
   ]
  },
  {
   "cell_type": "markdown",
   "metadata": {},
   "source": [
    "The best way of evaluating the results is to use the graphical analysis provided by pyLDAvis above. The size of the buddles indicates that all four topics had a high frequency of songs. Furthermore, there is no overlap between the bubbles, meaning that the model was generally quite sure about the topic clustering. We can also see that all sections of the 2D space have one bubble, meaning that the topics identified capture the spread of the song topic variability.\n",
    "\n",
    "Another measure that could be used for evaluation is perplexity, also shown above. However, this is not really useful on its own - it would be more useful in comparing this model with another."
   ]
  },
  {
   "cell_type": "markdown",
   "metadata": {},
   "source": [
    "## V. Conclusion"
   ]
  },
  {
   "cell_type": "markdown",
   "metadata": {},
   "source": [
    "The aim of this project was to provide a detailed analysis of lyrics from rap and hip hop songs and use an unsupervised model to identify the latent topics hidden in the lyrics. \n",
    "\n",
    "A dataset of thousands of rap and hip hop song lyrics was scraped from Lyrics.com. Due to the large amount of dialect and other word contractions, the lyrics had to undergo a thorough cleaning process before being analysed. The cleaned dataset contained just under 13,000 song lyrics.\n",
    "\n",
    "Using a Latent Dirichtet Allocation (LDA), four distinct topics were uncovered in the dataset. These were identified as Emotional, Philosophical, Party, and Issues/Crime. Each topic has its own unique characteristics, ranging from artists to lyric length, senitment score, and lyric speed. The results also threw some light on the changing topic distribution of the rap genre over the past four decades.\n",
    "\n",
    "Before concluding, I would also like to point out some limitations and ethical considerations of this study. The study was conducted using a publicly available dataset of song lyrics from publicly available songs. The intent is to throw light on the lyrical variety of a greatly misunderstood genre. Despite rap's bad reputation of promoting violence, this project showed that this genre has a  wide topic diversity, and the content and message of each song needs to be judged as a whole to be appreciated. \n",
    "\n",
    "The model chosen for this project was an LDA, but there are other models that could be used for unsupervised topic modelling, all of which may give different results. The results of the LDA can be particularly sensitive to the model hyperparameters, such as excluded features or the number of topics. While care was taken in choosing the appropriate hyperparameters, these are ultimately based on subjective judgement. Another point to mention is that the LDA is based on a bag of words representation of the text - hence, the model only looks for the presence of individual words in a song, not at the context of these words.\n",
    "\n",
    "All songs analysed are in the public domain, and there is no guarantee that the scraped lyrics are 100% accurate. Furthermore, although I attempted to manually clean a large chunk of the dataset, I cannot gaurantee that all non-dictionary tokens were removed from the dataset. An interesting further analysis of this project would be to test the impact of this rigorous cleaning on the final results - would the topic groupings have remained similar if only basic cleaning was performed? \n",
    "\n",
    "Any errors and conclusions presented in this study are the author's own."
   ]
  },
  {
   "cell_type": "markdown",
   "metadata": {},
   "source": [
    "## References"
   ]
  },
  {
   "cell_type": "markdown",
   "metadata": {},
   "source": [
    "<b>BOOKS & PAPERS</b>\n",
    "<ul>\n",
    "    <li>Bird et. al (2009). Natural Language Processing with Python. O'Reilly Media, Inc., first edition. </li>\n",
    "    <li>Jurafsky & Martin (2020). Speech and Language Processing. Third edition draft. </li>\n",
    "    <li>McKinney, W. Python for Data Analysis (2017). O'Reilly Media, Inc., second edition. </li>\n",
    "    <li>Sievert, C. & Shirley, K. (2014). LDAvis: A method for visualizing and interpreting topics. Available at: https://nlp.stanford.edu/events/illvi2014/papers/sievert-illvi2014.pdf</li>\n",
    "</ul>\n",
    "\n",
    "<b>UNIVERSITY OF LONDON</b>\n",
    "<ul>\n",
    "    <li>DSM020 Module - Data Programming in Python Module (McGrath, S.)</li>\n",
    "    <li>DSM020 Coursework I - <i>Where words fail, music speaks</i></li>\n",
    "    <li>DSM140 Module - Natural Language Processing (Russell-Rose, T.)</li>\n",
    "</ul>\n",
    "\n",
    "<b>WEBPAGES CONSULTED</b>\n",
    "<ul>\n",
    "    <li>https://en.wikipedia.org/wiki/Rapping</li>\n",
    "    <li>https://neptune.ai/blog/exploratory-data-analysis-natural-language-processing-tools</li>\n",
    "    <li>https://towardsdatascience.com/6-tips-to-optimize-an-nlp-topic-model-for-interpretability-20742f3047e2</li>\n",
    "    <li>https://tim-denzler.medium.com/whats-in-a-song-using-lda-to-find-topics-in-over-120-000-songs-53785767b692</li>\n",
    "    <li>https://towardsdatascience.com/end-to-end-topic-modeling-in-python-latent-dirichlet-allocation-lda-35ce4ed6b3e0</li>\n",
    "    <li>https://blog.mlreview.com/topic-modeling-with-scikit-learn-e80d33668730</li>\n",
    "    <li>https://towardsdatascience.com/improving-the-interpretation-of-topic-models-87fd2ee3847d</li>\n",
    "    <li>https://yanlinc.medium.com/how-to-build-a-lda-topic-model-using-from-text-601cdcbfd3a6</li>\n",
    "    <li>https://nicharuc.github.io/topic_modeling/</li>\n",
    "    <li>https://www.objectorientedsubject.net/2018/08/experiments-on-topic-modeling-pyldavis//</li>\n",
    "</ul>"
   ]
  }
 ],
 "metadata": {
  "kernelspec": {
   "display_name": "Python 3",
   "language": "python",
   "name": "python3"
  },
  "language_info": {
   "codemirror_mode": {
    "name": "ipython",
    "version": 3
   },
   "file_extension": ".py",
   "mimetype": "text/x-python",
   "name": "python",
   "nbconvert_exporter": "python",
   "pygments_lexer": "ipython3",
   "version": "3.8.5"
  }
 },
 "nbformat": 4,
 "nbformat_minor": 4
}
